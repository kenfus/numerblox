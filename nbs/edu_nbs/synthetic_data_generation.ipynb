{
 "cells": [
  {
   "cell_type": "raw",
   "metadata": {},
   "source": [
    "---\n",
    "output-file: synthetic_data_generation.html\n",
    "title: Synthetic Data Generation with NumerBlox\n",
    "\n",
    "---\n",
    "\n"
   ]
  },
  {
   "cell_type": "code",
   "execution_count": null,
   "metadata": {},
   "outputs": [],
   "source": [
    "#| include: false\n",
    "import pandas as pd\n",
    "from nbdev.showdoc import *"
   ]
  },
  {
   "cell_type": "markdown",
   "metadata": {},
   "source": [
    "This example notebook covers ways to generate synthetic data using `numerblox` components. Synthetic data can be a great way to improve performance simply by having more data to train. We will both cover ways to generate synthetic target variables and features."
   ]
  },
  {
   "cell_type": "markdown",
   "metadata": {},
   "source": [
    "## 0. Download and load"
   ]
  },
  {
   "cell_type": "code",
   "execution_count": null,
   "metadata": {},
   "outputs": [],
   "source": [
    "from numerblox.download import NumeraiClassicDownloader\n",
    "from numerblox.numerframe import create_numerframe, NumerFrame"
   ]
  },
  {
   "cell_type": "code",
   "execution_count": null,
   "metadata": {},
   "outputs": [
    {
     "data": {
      "text/html": [
       "<pre style=\"white-space:pre;overflow-x:auto;line-height:normal;font-family:Menlo,'DejaVu Sans Mono',consolas,'Courier New',monospace\">📁 <span style=\"color: #008000; text-decoration-color: #008000\">Downloading</span> <span style=\"color: #008000; text-decoration-color: #008000\">'v4.1/train.parquet'</span> 📁\n",
       "</pre>\n"
      ],
      "text/plain": [
       "📁 \u001b[32mDownloading\u001b[0m \u001b[32m'v4.1/train.parquet'\u001b[0m 📁\n"
      ]
     },
     "metadata": {},
     "output_type": "display_data"
    },
    {
     "name": "stderr",
     "output_type": "stream",
     "text": [
      "2023-01-04 16:49:42,423 INFO numerapi.utils: starting download\n",
      "synth_test/train.parquet: 1.45GB [00:52, 27.3MB/s]                            0:23, 35.0MB/s]\n"
     ]
    },
    {
     "data": {
      "text/html": [
       "<pre style=\"white-space:pre;overflow-x:auto;line-height:normal;font-family:Menlo,'DejaVu Sans Mono',consolas,'Courier New',monospace\">📁 <span style=\"color: #008000; text-decoration-color: #008000\">Downloading</span> <span style=\"color: #008000; text-decoration-color: #008000\">'v4.1/validation.parquet'</span> 📁\n",
       "</pre>\n"
      ],
      "text/plain": [
       "📁 \u001b[32mDownloading\u001b[0m \u001b[32m'v4.1/validation.parquet'\u001b[0m 📁\n"
      ]
     },
     "metadata": {},
     "output_type": "display_data"
    },
    {
     "name": "stderr",
     "output_type": "stream",
     "text": [
      "2023-01-04 16:50:35,987 INFO numerapi.utils: starting download\n",
      "synth_test/validation.parquet: 1.50GB [00:50, 29.6MB/s]                            \n"
     ]
    }
   ],
   "source": [
    "dl = NumeraiClassicDownloader(directory_path=\"synth_test\")\n",
    "dl.download_training_data(version=\"4.1\")"
   ]
  },
  {
   "cell_type": "code",
   "execution_count": null,
   "metadata": {},
   "outputs": [],
   "source": [
    "dataf = create_numerframe(\"synth_test/train.parquet\")"
   ]
  },
  {
   "cell_type": "code",
   "execution_count": null,
   "metadata": {},
   "outputs": [
    {
     "data": {
      "text/html": [
       "<div>\n",
       "<style scoped>\n",
       "    .dataframe tbody tr th:only-of-type {\n",
       "        vertical-align: middle;\n",
       "    }\n",
       "\n",
       "    .dataframe tbody tr th {\n",
       "        vertical-align: top;\n",
       "    }\n",
       "\n",
       "    .dataframe thead th {\n",
       "        text-align: right;\n",
       "    }\n",
       "</style>\n",
       "<table border=\"1\" class=\"dataframe\">\n",
       "  <thead>\n",
       "    <tr style=\"text-align: right;\">\n",
       "      <th></th>\n",
       "      <th>era</th>\n",
       "      <th>data_type</th>\n",
       "      <th>feature_honoured_observational_balaamite</th>\n",
       "      <th>feature_polaroid_vadose_quinze</th>\n",
       "      <th>feature_untidy_withdrawn_bargeman</th>\n",
       "      <th>feature_genuine_kyphotic_trehala</th>\n",
       "      <th>feature_unenthralled_sportful_schoolhouse</th>\n",
       "      <th>feature_divulsive_explanatory_ideologue</th>\n",
       "      <th>feature_ichthyotic_roofed_yeshiva</th>\n",
       "      <th>feature_waggly_outlandish_carbonisation</th>\n",
       "      <th>...</th>\n",
       "      <th>target_paul_v4_20</th>\n",
       "      <th>target_paul_v4_60</th>\n",
       "      <th>target_george_v4_20</th>\n",
       "      <th>target_george_v4_60</th>\n",
       "      <th>target_william_v4_20</th>\n",
       "      <th>target_william_v4_60</th>\n",
       "      <th>target_arthur_v4_20</th>\n",
       "      <th>target_arthur_v4_60</th>\n",
       "      <th>target_thomas_v4_20</th>\n",
       "      <th>target_thomas_v4_60</th>\n",
       "    </tr>\n",
       "    <tr>\n",
       "      <th>id</th>\n",
       "      <th></th>\n",
       "      <th></th>\n",
       "      <th></th>\n",
       "      <th></th>\n",
       "      <th></th>\n",
       "      <th></th>\n",
       "      <th></th>\n",
       "      <th></th>\n",
       "      <th></th>\n",
       "      <th></th>\n",
       "      <th></th>\n",
       "      <th></th>\n",
       "      <th></th>\n",
       "      <th></th>\n",
       "      <th></th>\n",
       "      <th></th>\n",
       "      <th></th>\n",
       "      <th></th>\n",
       "      <th></th>\n",
       "      <th></th>\n",
       "      <th></th>\n",
       "    </tr>\n",
       "  </thead>\n",
       "  <tbody>\n",
       "    <tr>\n",
       "      <th>n003bba8a98662e4</th>\n",
       "      <td>0001</td>\n",
       "      <td>train</td>\n",
       "      <td>1.0</td>\n",
       "      <td>0.5</td>\n",
       "      <td>1.00</td>\n",
       "      <td>1.00</td>\n",
       "      <td>0.0</td>\n",
       "      <td>0.00</td>\n",
       "      <td>1.0</td>\n",
       "      <td>1.00</td>\n",
       "      <td>...</td>\n",
       "      <td>0.50</td>\n",
       "      <td>0.25</td>\n",
       "      <td>0.25</td>\n",
       "      <td>0.0</td>\n",
       "      <td>0.333333</td>\n",
       "      <td>0.000000</td>\n",
       "      <td>0.500000</td>\n",
       "      <td>0.500000</td>\n",
       "      <td>0.166667</td>\n",
       "      <td>0.000000</td>\n",
       "    </tr>\n",
       "    <tr>\n",
       "      <th>n003bee128c2fcfc</th>\n",
       "      <td>0001</td>\n",
       "      <td>train</td>\n",
       "      <td>0.5</td>\n",
       "      <td>1.0</td>\n",
       "      <td>0.25</td>\n",
       "      <td>0.75</td>\n",
       "      <td>0.0</td>\n",
       "      <td>0.75</td>\n",
       "      <td>0.5</td>\n",
       "      <td>0.75</td>\n",
       "      <td>...</td>\n",
       "      <td>0.75</td>\n",
       "      <td>1.00</td>\n",
       "      <td>1.00</td>\n",
       "      <td>1.0</td>\n",
       "      <td>0.666667</td>\n",
       "      <td>0.666667</td>\n",
       "      <td>0.833333</td>\n",
       "      <td>0.666667</td>\n",
       "      <td>0.833333</td>\n",
       "      <td>0.666667</td>\n",
       "    </tr>\n",
       "  </tbody>\n",
       "</table>\n",
       "<p>2 rows × 1617 columns</p>\n",
       "</div>"
      ],
      "text/plain": [
       "                   era data_type  feature_honoured_observational_balaamite  \\\n",
       "id                                                                           \n",
       "n003bba8a98662e4  0001     train                                       1.0   \n",
       "n003bee128c2fcfc  0001     train                                       0.5   \n",
       "\n",
       "                  feature_polaroid_vadose_quinze  \\\n",
       "id                                                 \n",
       "n003bba8a98662e4                             0.5   \n",
       "n003bee128c2fcfc                             1.0   \n",
       "\n",
       "                  feature_untidy_withdrawn_bargeman  \\\n",
       "id                                                    \n",
       "n003bba8a98662e4                               1.00   \n",
       "n003bee128c2fcfc                               0.25   \n",
       "\n",
       "                  feature_genuine_kyphotic_trehala  \\\n",
       "id                                                   \n",
       "n003bba8a98662e4                              1.00   \n",
       "n003bee128c2fcfc                              0.75   \n",
       "\n",
       "                  feature_unenthralled_sportful_schoolhouse  \\\n",
       "id                                                            \n",
       "n003bba8a98662e4                                        0.0   \n",
       "n003bee128c2fcfc                                        0.0   \n",
       "\n",
       "                  feature_divulsive_explanatory_ideologue  \\\n",
       "id                                                          \n",
       "n003bba8a98662e4                                     0.00   \n",
       "n003bee128c2fcfc                                     0.75   \n",
       "\n",
       "                  feature_ichthyotic_roofed_yeshiva  \\\n",
       "id                                                    \n",
       "n003bba8a98662e4                                1.0   \n",
       "n003bee128c2fcfc                                0.5   \n",
       "\n",
       "                  feature_waggly_outlandish_carbonisation  ...  \\\n",
       "id                                                         ...   \n",
       "n003bba8a98662e4                                     1.00  ...   \n",
       "n003bee128c2fcfc                                     0.75  ...   \n",
       "\n",
       "                  target_paul_v4_20  target_paul_v4_60  target_george_v4_20  \\\n",
       "id                                                                            \n",
       "n003bba8a98662e4               0.50               0.25                 0.25   \n",
       "n003bee128c2fcfc               0.75               1.00                 1.00   \n",
       "\n",
       "                  target_george_v4_60  target_william_v4_20  \\\n",
       "id                                                            \n",
       "n003bba8a98662e4                  0.0              0.333333   \n",
       "n003bee128c2fcfc                  1.0              0.666667   \n",
       "\n",
       "                  target_william_v4_60  target_arthur_v4_20  \\\n",
       "id                                                            \n",
       "n003bba8a98662e4              0.000000             0.500000   \n",
       "n003bee128c2fcfc              0.666667             0.833333   \n",
       "\n",
       "                  target_arthur_v4_60  target_thomas_v4_20  \\\n",
       "id                                                           \n",
       "n003bba8a98662e4             0.500000             0.166667   \n",
       "n003bee128c2fcfc             0.666667             0.833333   \n",
       "\n",
       "                  target_thomas_v4_60  \n",
       "id                                     \n",
       "n003bba8a98662e4             0.000000  \n",
       "n003bee128c2fcfc             0.666667  \n",
       "\n",
       "[2 rows x 1617 columns]"
      ]
     },
     "execution_count": null,
     "metadata": {},
     "output_type": "execute_result"
    }
   ],
   "source": [
    "dataf.head(2)"
   ]
  },
  {
   "cell_type": "markdown",
   "metadata": {},
   "source": [
    "## 1. Synthetic target (Bayesian GMM)"
   ]
  },
  {
   "cell_type": "markdown",
   "metadata": {},
   "source": [
    "First we will tackle the problem of creating a synthetic target column to improve model performance. `BayesianGMMTargetProcessor` allows you to generate a new target variable based on a given target. The preprocessor sample the target from a [Bayesian Gaussian Mixture model](https://scikit-learn.org/stable/modules/generated/sklearn.mixture.BayesianGaussianMixture.html) which is fitted on coefficients from a [regularized linear model (Ridge regression)](https://scikit-learn.org/stable/modules/generated/sklearn.linear_model.Ridge.html).\n",
    "\n",
    "This implementation is based on a [Github Gist by Michael Oliver (mdo)](https://gist.github.com/the-moliver/dcdd2862dc2c78dda600f1b449071c93)."
   ]
  },
  {
   "cell_type": "code",
   "execution_count": null,
   "metadata": {},
   "outputs": [
    {
     "name": "stderr",
     "output_type": "stream",
     "text": [
      "synth_test/numerai_training_data.parquet:  19%|█▊        | 190M/1.01G [02:16<09:54, 1.39MB/s]\n",
      "2023-01-04 16:51:50.163656: I tensorflow/core/platform/cpu_feature_guard.cc:193] This TensorFlow binary is optimized with oneAPI Deep Neural Network Library (oneDNN) to use the following CPU instructions in performance-critical operations:  AVX2 FMA\n",
      "To enable them in other operations, rebuild TensorFlow with the appropriate compiler flags.\n",
      "2023-01-04 16:51:50.324656: W tensorflow/compiler/xla/stream_executor/platform/default/dso_loader.cc:64] Could not load dynamic library 'libcudart.so.11.0'; dlerror: libcudart.so.11.0: cannot open shared object file: No such file or directory\n",
      "2023-01-04 16:51:50.324692: I tensorflow/compiler/xla/stream_executor/cuda/cudart_stub.cc:29] Ignore above cudart dlerror if you do not have a GPU set up on your machine.\n",
      "2023-01-04 16:51:51.192085: W tensorflow/compiler/xla/stream_executor/platform/default/dso_loader.cc:64] Could not load dynamic library 'libnvinfer.so.7'; dlerror: libnvinfer.so.7: cannot open shared object file: No such file or directory\n",
      "2023-01-04 16:51:51.192203: W tensorflow/compiler/xla/stream_executor/platform/default/dso_loader.cc:64] Could not load dynamic library 'libnvinfer_plugin.so.7'; dlerror: libnvinfer_plugin.so.7: cannot open shared object file: No such file or directory\n",
      "2023-01-04 16:51:51.192216: W tensorflow/compiler/tf2tensorrt/utils/py_utils.cc:38] TF-TRT Warning: Cannot dlopen some TensorRT libraries. If you would like to use Nvidia GPU with TensorRT, please make sure the missing libraries mentioned above are installed properly.\n"
     ]
    }
   ],
   "source": [
    "from numerblox.preprocessing import BayesianGMMTargetProcessor"
   ]
  },
  {
   "cell_type": "code",
   "execution_count": null,
   "metadata": {},
   "outputs": [
    {
     "data": {
      "text/markdown": [
       "---\n",
       "\n",
       "[source](https://github.com/crowdcent/numerblox/tree/master/blob/master/numerblox/preprocessing.py#LNone){target=\"_blank\" style=\"float:right; font-size:smaller\"}\n",
       "\n",
       "### BayesianGMMTargetProcessor\n",
       "\n",
       ">      BayesianGMMTargetProcessor (target_col:str='target',\n",
       ">                                  feature_names:list=None, n_components:int=6)\n",
       "\n",
       "Generate synthetic (fake) target using a Bayesian Gaussian Mixture model. \n",
       "\n",
       "Based on Michael Oliver's GitHub Gist implementation: \n",
       "\n",
       "https://gist.github.com/the-moliver/dcdd2862dc2c78dda600f1b449071c93\n",
       "\n",
       ":param target_col: Column from which to create fake target. \n",
       "\n",
       ":param feature_names: Selection of features used for Bayesian GMM. All features by default.\n",
       ":param n_components: Number of components for fitting Bayesian Gaussian Mixture Model."
      ],
      "text/plain": [
       "---\n",
       "\n",
       "[source](https://github.com/crowdcent/numerblox/tree/master/blob/master/numerblox/preprocessing.py#LNone){target=\"_blank\" style=\"float:right; font-size:smaller\"}\n",
       "\n",
       "### BayesianGMMTargetProcessor\n",
       "\n",
       ">      BayesianGMMTargetProcessor (target_col:str='target',\n",
       ">                                  feature_names:list=None, n_components:int=6)\n",
       "\n",
       "Generate synthetic (fake) target using a Bayesian Gaussian Mixture model. \n",
       "\n",
       "Based on Michael Oliver's GitHub Gist implementation: \n",
       "\n",
       "https://gist.github.com/the-moliver/dcdd2862dc2c78dda600f1b449071c93\n",
       "\n",
       ":param target_col: Column from which to create fake target. \n",
       "\n",
       ":param feature_names: Selection of features used for Bayesian GMM. All features by default.\n",
       ":param n_components: Number of components for fitting Bayesian Gaussian Mixture Model."
      ]
     },
     "execution_count": null,
     "metadata": {},
     "output_type": "execute_result"
    }
   ],
   "source": [
    "show_doc(BayesianGMMTargetProcessor)"
   ]
  },
  {
   "cell_type": "code",
   "execution_count": null,
   "metadata": {},
   "outputs": [
    {
     "data": {
      "text/html": [
       "<div>\n",
       "<style scoped>\n",
       "    .dataframe tbody tr th:only-of-type {\n",
       "        vertical-align: middle;\n",
       "    }\n",
       "\n",
       "    .dataframe tbody tr th {\n",
       "        vertical-align: top;\n",
       "    }\n",
       "\n",
       "    .dataframe thead th {\n",
       "        text-align: right;\n",
       "    }\n",
       "</style>\n",
       "<table border=\"1\" class=\"dataframe\">\n",
       "  <thead>\n",
       "    <tr style=\"text-align: right;\">\n",
       "      <th></th>\n",
       "      <th>era</th>\n",
       "      <th>data_type</th>\n",
       "      <th>feature_honoured_observational_balaamite</th>\n",
       "      <th>feature_polaroid_vadose_quinze</th>\n",
       "      <th>feature_untidy_withdrawn_bargeman</th>\n",
       "      <th>feature_genuine_kyphotic_trehala</th>\n",
       "      <th>feature_unenthralled_sportful_schoolhouse</th>\n",
       "      <th>feature_divulsive_explanatory_ideologue</th>\n",
       "      <th>feature_ichthyotic_roofed_yeshiva</th>\n",
       "      <th>feature_waggly_outlandish_carbonisation</th>\n",
       "      <th>...</th>\n",
       "      <th>target_paul_v4_20</th>\n",
       "      <th>target_paul_v4_60</th>\n",
       "      <th>target_george_v4_20</th>\n",
       "      <th>target_george_v4_60</th>\n",
       "      <th>target_william_v4_20</th>\n",
       "      <th>target_william_v4_60</th>\n",
       "      <th>target_arthur_v4_20</th>\n",
       "      <th>target_arthur_v4_60</th>\n",
       "      <th>target_thomas_v4_20</th>\n",
       "      <th>target_thomas_v4_60</th>\n",
       "    </tr>\n",
       "    <tr>\n",
       "      <th>id</th>\n",
       "      <th></th>\n",
       "      <th></th>\n",
       "      <th></th>\n",
       "      <th></th>\n",
       "      <th></th>\n",
       "      <th></th>\n",
       "      <th></th>\n",
       "      <th></th>\n",
       "      <th></th>\n",
       "      <th></th>\n",
       "      <th></th>\n",
       "      <th></th>\n",
       "      <th></th>\n",
       "      <th></th>\n",
       "      <th></th>\n",
       "      <th></th>\n",
       "      <th></th>\n",
       "      <th></th>\n",
       "      <th></th>\n",
       "      <th></th>\n",
       "      <th></th>\n",
       "    </tr>\n",
       "  </thead>\n",
       "  <tbody>\n",
       "    <tr>\n",
       "      <th>n003bba8a98662e4</th>\n",
       "      <td>0001</td>\n",
       "      <td>train</td>\n",
       "      <td>1.0</td>\n",
       "      <td>0.50</td>\n",
       "      <td>1.00</td>\n",
       "      <td>1.00</td>\n",
       "      <td>0.00</td>\n",
       "      <td>0.00</td>\n",
       "      <td>1.00</td>\n",
       "      <td>1.00</td>\n",
       "      <td>...</td>\n",
       "      <td>0.50</td>\n",
       "      <td>0.25</td>\n",
       "      <td>0.25</td>\n",
       "      <td>0.00</td>\n",
       "      <td>0.333333</td>\n",
       "      <td>0.000000</td>\n",
       "      <td>0.500000</td>\n",
       "      <td>0.500000</td>\n",
       "      <td>0.166667</td>\n",
       "      <td>0.000000</td>\n",
       "    </tr>\n",
       "    <tr>\n",
       "      <th>n003bee128c2fcfc</th>\n",
       "      <td>0001</td>\n",
       "      <td>train</td>\n",
       "      <td>0.5</td>\n",
       "      <td>1.00</td>\n",
       "      <td>0.25</td>\n",
       "      <td>0.75</td>\n",
       "      <td>0.00</td>\n",
       "      <td>0.75</td>\n",
       "      <td>0.50</td>\n",
       "      <td>0.75</td>\n",
       "      <td>...</td>\n",
       "      <td>0.75</td>\n",
       "      <td>1.00</td>\n",
       "      <td>1.00</td>\n",
       "      <td>1.00</td>\n",
       "      <td>0.666667</td>\n",
       "      <td>0.666667</td>\n",
       "      <td>0.833333</td>\n",
       "      <td>0.666667</td>\n",
       "      <td>0.833333</td>\n",
       "      <td>0.666667</td>\n",
       "    </tr>\n",
       "    <tr>\n",
       "      <th>n0048ac83aff7194</th>\n",
       "      <td>0001</td>\n",
       "      <td>train</td>\n",
       "      <td>0.5</td>\n",
       "      <td>0.25</td>\n",
       "      <td>0.75</td>\n",
       "      <td>0.00</td>\n",
       "      <td>0.75</td>\n",
       "      <td>0.00</td>\n",
       "      <td>0.75</td>\n",
       "      <td>0.75</td>\n",
       "      <td>...</td>\n",
       "      <td>0.50</td>\n",
       "      <td>0.25</td>\n",
       "      <td>0.25</td>\n",
       "      <td>0.25</td>\n",
       "      <td>0.500000</td>\n",
       "      <td>0.333333</td>\n",
       "      <td>0.333333</td>\n",
       "      <td>0.500000</td>\n",
       "      <td>0.500000</td>\n",
       "      <td>0.333333</td>\n",
       "    </tr>\n",
       "    <tr>\n",
       "      <th>n00691bec80d3e02</th>\n",
       "      <td>0001</td>\n",
       "      <td>train</td>\n",
       "      <td>1.0</td>\n",
       "      <td>0.50</td>\n",
       "      <td>0.50</td>\n",
       "      <td>0.75</td>\n",
       "      <td>0.00</td>\n",
       "      <td>1.00</td>\n",
       "      <td>0.25</td>\n",
       "      <td>1.00</td>\n",
       "      <td>...</td>\n",
       "      <td>0.50</td>\n",
       "      <td>0.50</td>\n",
       "      <td>0.50</td>\n",
       "      <td>0.50</td>\n",
       "      <td>0.666667</td>\n",
       "      <td>0.500000</td>\n",
       "      <td>0.500000</td>\n",
       "      <td>0.500000</td>\n",
       "      <td>0.666667</td>\n",
       "      <td>0.500000</td>\n",
       "    </tr>\n",
       "    <tr>\n",
       "      <th>n00b8720a2fdc4f2</th>\n",
       "      <td>0001</td>\n",
       "      <td>train</td>\n",
       "      <td>1.0</td>\n",
       "      <td>0.75</td>\n",
       "      <td>1.00</td>\n",
       "      <td>1.00</td>\n",
       "      <td>0.00</td>\n",
       "      <td>0.00</td>\n",
       "      <td>1.00</td>\n",
       "      <td>0.50</td>\n",
       "      <td>...</td>\n",
       "      <td>0.50</td>\n",
       "      <td>0.50</td>\n",
       "      <td>0.50</td>\n",
       "      <td>0.50</td>\n",
       "      <td>0.666667</td>\n",
       "      <td>0.500000</td>\n",
       "      <td>0.666667</td>\n",
       "      <td>0.500000</td>\n",
       "      <td>0.666667</td>\n",
       "      <td>0.500000</td>\n",
       "    </tr>\n",
       "  </tbody>\n",
       "</table>\n",
       "<p>5 rows × 1617 columns</p>\n",
       "</div>"
      ],
      "text/plain": [
       "                   era data_type  feature_honoured_observational_balaamite  \\\n",
       "id                                                                           \n",
       "n003bba8a98662e4  0001     train                                       1.0   \n",
       "n003bee128c2fcfc  0001     train                                       0.5   \n",
       "n0048ac83aff7194  0001     train                                       0.5   \n",
       "n00691bec80d3e02  0001     train                                       1.0   \n",
       "n00b8720a2fdc4f2  0001     train                                       1.0   \n",
       "\n",
       "                  feature_polaroid_vadose_quinze  \\\n",
       "id                                                 \n",
       "n003bba8a98662e4                            0.50   \n",
       "n003bee128c2fcfc                            1.00   \n",
       "n0048ac83aff7194                            0.25   \n",
       "n00691bec80d3e02                            0.50   \n",
       "n00b8720a2fdc4f2                            0.75   \n",
       "\n",
       "                  feature_untidy_withdrawn_bargeman  \\\n",
       "id                                                    \n",
       "n003bba8a98662e4                               1.00   \n",
       "n003bee128c2fcfc                               0.25   \n",
       "n0048ac83aff7194                               0.75   \n",
       "n00691bec80d3e02                               0.50   \n",
       "n00b8720a2fdc4f2                               1.00   \n",
       "\n",
       "                  feature_genuine_kyphotic_trehala  \\\n",
       "id                                                   \n",
       "n003bba8a98662e4                              1.00   \n",
       "n003bee128c2fcfc                              0.75   \n",
       "n0048ac83aff7194                              0.00   \n",
       "n00691bec80d3e02                              0.75   \n",
       "n00b8720a2fdc4f2                              1.00   \n",
       "\n",
       "                  feature_unenthralled_sportful_schoolhouse  \\\n",
       "id                                                            \n",
       "n003bba8a98662e4                                       0.00   \n",
       "n003bee128c2fcfc                                       0.00   \n",
       "n0048ac83aff7194                                       0.75   \n",
       "n00691bec80d3e02                                       0.00   \n",
       "n00b8720a2fdc4f2                                       0.00   \n",
       "\n",
       "                  feature_divulsive_explanatory_ideologue  \\\n",
       "id                                                          \n",
       "n003bba8a98662e4                                     0.00   \n",
       "n003bee128c2fcfc                                     0.75   \n",
       "n0048ac83aff7194                                     0.00   \n",
       "n00691bec80d3e02                                     1.00   \n",
       "n00b8720a2fdc4f2                                     0.00   \n",
       "\n",
       "                  feature_ichthyotic_roofed_yeshiva  \\\n",
       "id                                                    \n",
       "n003bba8a98662e4                               1.00   \n",
       "n003bee128c2fcfc                               0.50   \n",
       "n0048ac83aff7194                               0.75   \n",
       "n00691bec80d3e02                               0.25   \n",
       "n00b8720a2fdc4f2                               1.00   \n",
       "\n",
       "                  feature_waggly_outlandish_carbonisation  ...  \\\n",
       "id                                                         ...   \n",
       "n003bba8a98662e4                                     1.00  ...   \n",
       "n003bee128c2fcfc                                     0.75  ...   \n",
       "n0048ac83aff7194                                     0.75  ...   \n",
       "n00691bec80d3e02                                     1.00  ...   \n",
       "n00b8720a2fdc4f2                                     0.50  ...   \n",
       "\n",
       "                  target_paul_v4_20  target_paul_v4_60  target_george_v4_20  \\\n",
       "id                                                                            \n",
       "n003bba8a98662e4               0.50               0.25                 0.25   \n",
       "n003bee128c2fcfc               0.75               1.00                 1.00   \n",
       "n0048ac83aff7194               0.50               0.25                 0.25   \n",
       "n00691bec80d3e02               0.50               0.50                 0.50   \n",
       "n00b8720a2fdc4f2               0.50               0.50                 0.50   \n",
       "\n",
       "                  target_george_v4_60  target_william_v4_20  \\\n",
       "id                                                            \n",
       "n003bba8a98662e4                 0.00              0.333333   \n",
       "n003bee128c2fcfc                 1.00              0.666667   \n",
       "n0048ac83aff7194                 0.25              0.500000   \n",
       "n00691bec80d3e02                 0.50              0.666667   \n",
       "n00b8720a2fdc4f2                 0.50              0.666667   \n",
       "\n",
       "                  target_william_v4_60  target_arthur_v4_20  \\\n",
       "id                                                            \n",
       "n003bba8a98662e4              0.000000             0.500000   \n",
       "n003bee128c2fcfc              0.666667             0.833333   \n",
       "n0048ac83aff7194              0.333333             0.333333   \n",
       "n00691bec80d3e02              0.500000             0.500000   \n",
       "n00b8720a2fdc4f2              0.500000             0.666667   \n",
       "\n",
       "                  target_arthur_v4_60  target_thomas_v4_20  \\\n",
       "id                                                           \n",
       "n003bba8a98662e4             0.500000             0.166667   \n",
       "n003bee128c2fcfc             0.666667             0.833333   \n",
       "n0048ac83aff7194             0.500000             0.500000   \n",
       "n00691bec80d3e02             0.500000             0.666667   \n",
       "n00b8720a2fdc4f2             0.500000             0.666667   \n",
       "\n",
       "                  target_thomas_v4_60  \n",
       "id                                     \n",
       "n003bba8a98662e4             0.000000  \n",
       "n003bee128c2fcfc             0.666667  \n",
       "n0048ac83aff7194             0.333333  \n",
       "n00691bec80d3e02             0.500000  \n",
       "n00b8720a2fdc4f2             0.500000  \n",
       "\n",
       "[5 rows x 1617 columns]"
      ]
     },
     "execution_count": null,
     "metadata": {},
     "output_type": "execute_result"
    }
   ],
   "source": [
    "dataf.head()"
   ]
  },
  {
   "cell_type": "code",
   "execution_count": null,
   "metadata": {},
   "outputs": [
    {
     "data": {
      "application/vnd.jupyter.widget-view+json": {
       "model_id": "05370e4053544a18bebb652065e5cbc2",
       "version_major": 2,
       "version_minor": 0
      },
      "text/plain": [
       "Generating fake target:   0%|          | 0/93 [00:00<?, ?it/s]"
      ]
     },
     "metadata": {},
     "output_type": "display_data"
    },
    {
     "data": {
      "text/html": [
       "<pre style=\"white-space:pre;overflow-x:auto;line-height:normal;font-family:Menlo,'DejaVu Sans Mono',consolas,'Courier New',monospace\">✅ Finished step <span style=\"font-weight: bold\">BayesianGMMTargetProcessor</span>. Output <span style=\"color: #808000; text-decoration-color: #808000\">shape</span>=<span style=\"font-weight: bold\">(</span><span style=\"color: #008080; text-decoration-color: #008080; font-weight: bold\">100</span>, <span style=\"color: #008080; text-decoration-color: #008080; font-weight: bold\">6</span><span style=\"font-weight: bold\">)</span>. Time taken for step: <span style=\"color: #000080; text-decoration-color: #000080; font-weight: bold\">0:00:00</span><span style=\"color: #000080; text-decoration-color: #000080\">.</span><span style=\"color: #000080; text-decoration-color: #000080; font-weight: bold\">663527</span>. ✅\n",
       "</pre>\n"
      ],
      "text/plain": [
       "✅ Finished step \u001b[1mBayesianGMMTargetProcessor\u001b[0m. Output \u001b[33mshape\u001b[0m=\u001b[1m(\u001b[0m\u001b[1;36m100\u001b[0m, \u001b[1;36m6\u001b[0m\u001b[1m)\u001b[0m. Time taken for step: \u001b[1;34m0:00:00\u001b[0m\u001b[34m.\u001b[0m\u001b[1;34m663527\u001b[0m. ✅\n"
      ]
     },
     "metadata": {},
     "output_type": "display_data"
    }
   ],
   "source": [
    "bgmm = BayesianGMMTargetProcessor(target_col=\"target\")\n",
    "test_columns = ['era', 'data_type', \n",
    "\"feature_polaroid_vadose_quinze\", \"feature_genuine_kyphotic_trehala\",  'target']\n",
    "sample_dataf = NumerFrame(dataf[test_columns].sample(100).fillna(0.5))\n",
    "fake_dataf = bgmm(sample_dataf)"
   ]
  },
  {
   "cell_type": "code",
   "execution_count": null,
   "metadata": {},
   "outputs": [
    {
     "data": {
      "text/html": [
       "<div>\n",
       "<style scoped>\n",
       "    .dataframe tbody tr th:only-of-type {\n",
       "        vertical-align: middle;\n",
       "    }\n",
       "\n",
       "    .dataframe tbody tr th {\n",
       "        vertical-align: top;\n",
       "    }\n",
       "\n",
       "    .dataframe thead th {\n",
       "        text-align: right;\n",
       "    }\n",
       "</style>\n",
       "<table border=\"1\" class=\"dataframe\">\n",
       "  <thead>\n",
       "    <tr style=\"text-align: right;\">\n",
       "      <th></th>\n",
       "      <th>era</th>\n",
       "      <th>data_type</th>\n",
       "      <th>feature_polaroid_vadose_quinze</th>\n",
       "      <th>feature_genuine_kyphotic_trehala</th>\n",
       "      <th>target</th>\n",
       "      <th>target_fake</th>\n",
       "    </tr>\n",
       "    <tr>\n",
       "      <th>id</th>\n",
       "      <th></th>\n",
       "      <th></th>\n",
       "      <th></th>\n",
       "      <th></th>\n",
       "      <th></th>\n",
       "      <th></th>\n",
       "    </tr>\n",
       "  </thead>\n",
       "  <tbody>\n",
       "    <tr>\n",
       "      <th>nc8e9c7b9fc085a4</th>\n",
       "      <td>0408</td>\n",
       "      <td>train</td>\n",
       "      <td>1.00</td>\n",
       "      <td>1.00</td>\n",
       "      <td>0.50</td>\n",
       "      <td>0.5</td>\n",
       "    </tr>\n",
       "    <tr>\n",
       "      <th>nd4f0261b44c914e</th>\n",
       "      <td>0037</td>\n",
       "      <td>train</td>\n",
       "      <td>0.50</td>\n",
       "      <td>1.00</td>\n",
       "      <td>0.50</td>\n",
       "      <td>0.5</td>\n",
       "    </tr>\n",
       "    <tr>\n",
       "      <th>nd0f06c2be2d501c</th>\n",
       "      <td>0357</td>\n",
       "      <td>train</td>\n",
       "      <td>1.00</td>\n",
       "      <td>0.75</td>\n",
       "      <td>0.50</td>\n",
       "      <td>0.5</td>\n",
       "    </tr>\n",
       "    <tr>\n",
       "      <th>nd0ae8c0e299e660</th>\n",
       "      <td>0454</td>\n",
       "      <td>train</td>\n",
       "      <td>0.50</td>\n",
       "      <td>0.00</td>\n",
       "      <td>0.25</td>\n",
       "      <td>0.5</td>\n",
       "    </tr>\n",
       "    <tr>\n",
       "      <th>n5eac28a1bcce5d9</th>\n",
       "      <td>0481</td>\n",
       "      <td>train</td>\n",
       "      <td>0.25</td>\n",
       "      <td>1.00</td>\n",
       "      <td>0.50</td>\n",
       "      <td>0.5</td>\n",
       "    </tr>\n",
       "  </tbody>\n",
       "</table>\n",
       "</div>"
      ],
      "text/plain": [
       "                   era data_type  feature_polaroid_vadose_quinze  \\\n",
       "id                                                                 \n",
       "nc8e9c7b9fc085a4  0408     train                            1.00   \n",
       "nd4f0261b44c914e  0037     train                            0.50   \n",
       "nd0f06c2be2d501c  0357     train                            1.00   \n",
       "nd0ae8c0e299e660  0454     train                            0.50   \n",
       "n5eac28a1bcce5d9  0481     train                            0.25   \n",
       "\n",
       "                  feature_genuine_kyphotic_trehala  target  target_fake  \n",
       "id                                                                       \n",
       "nc8e9c7b9fc085a4                              1.00    0.50          0.5  \n",
       "nd4f0261b44c914e                              1.00    0.50          0.5  \n",
       "nd0f06c2be2d501c                              0.75    0.50          0.5  \n",
       "nd0ae8c0e299e660                              0.00    0.25          0.5  \n",
       "n5eac28a1bcce5d9                              1.00    0.50          0.5  "
      ]
     },
     "execution_count": null,
     "metadata": {},
     "output_type": "execute_result"
    }
   ],
   "source": [
    "sample_dataf.head()"
   ]
  },
  {
   "cell_type": "markdown",
   "metadata": {},
   "source": [
    "The new target will be suffixed by `_fake` to distinguish it from the original targets."
   ]
  },
  {
   "cell_type": "code",
   "execution_count": null,
   "metadata": {},
   "outputs": [
    {
     "data": {
      "text/html": [
       "<div>\n",
       "<style scoped>\n",
       "    .dataframe tbody tr th:only-of-type {\n",
       "        vertical-align: middle;\n",
       "    }\n",
       "\n",
       "    .dataframe tbody tr th {\n",
       "        vertical-align: top;\n",
       "    }\n",
       "\n",
       "    .dataframe thead th {\n",
       "        text-align: right;\n",
       "    }\n",
       "</style>\n",
       "<table border=\"1\" class=\"dataframe\">\n",
       "  <thead>\n",
       "    <tr style=\"text-align: right;\">\n",
       "      <th></th>\n",
       "      <th>target</th>\n",
       "      <th>target_fake</th>\n",
       "    </tr>\n",
       "    <tr>\n",
       "      <th>id</th>\n",
       "      <th></th>\n",
       "      <th></th>\n",
       "    </tr>\n",
       "  </thead>\n",
       "  <tbody>\n",
       "    <tr>\n",
       "      <th>nc8e9c7b9fc085a4</th>\n",
       "      <td>0.5</td>\n",
       "      <td>0.5</td>\n",
       "    </tr>\n",
       "    <tr>\n",
       "      <th>nd4f0261b44c914e</th>\n",
       "      <td>0.5</td>\n",
       "      <td>0.5</td>\n",
       "    </tr>\n",
       "  </tbody>\n",
       "</table>\n",
       "</div>"
      ],
      "text/plain": [
       "                  target  target_fake\n",
       "id                                   \n",
       "nc8e9c7b9fc085a4     0.5          0.5\n",
       "nd4f0261b44c914e     0.5          0.5"
      ]
     },
     "execution_count": null,
     "metadata": {},
     "output_type": "execute_result"
    }
   ],
   "source": [
    "fake_dataf.get_target_data.head(2)"
   ]
  },
  {
   "cell_type": "markdown",
   "metadata": {},
   "source": [
    "Note that you can easily generate multiple fake targets in a loop."
   ]
  },
  {
   "cell_type": "code",
   "execution_count": null,
   "metadata": {},
   "outputs": [
    {
     "data": {
      "application/vnd.jupyter.widget-view+json": {
       "model_id": "c41e8fe0e75049438d2a5ad9ca337668",
       "version_major": 2,
       "version_minor": 0
      },
      "text/plain": [
       "Generating fake target:   0%|          | 0/93 [00:00<?, ?it/s]"
      ]
     },
     "metadata": {},
     "output_type": "display_data"
    },
    {
     "data": {
      "text/html": [
       "<pre style=\"white-space:pre;overflow-x:auto;line-height:normal;font-family:Menlo,'DejaVu Sans Mono',consolas,'Courier New',monospace\">✅ Finished step <span style=\"font-weight: bold\">BayesianGMMTargetProcessor</span>. Output <span style=\"color: #808000; text-decoration-color: #808000\">shape</span>=<span style=\"font-weight: bold\">(</span><span style=\"color: #008080; text-decoration-color: #008080; font-weight: bold\">100</span>, <span style=\"color: #008080; text-decoration-color: #008080; font-weight: bold\">6</span><span style=\"font-weight: bold\">)</span>. Time taken for step: <span style=\"color: #000080; text-decoration-color: #000080; font-weight: bold\">0:00:00</span><span style=\"color: #000080; text-decoration-color: #000080\">.</span><span style=\"color: #000080; text-decoration-color: #000080; font-weight: bold\">401553</span>. ✅\n",
       "</pre>\n"
      ],
      "text/plain": [
       "✅ Finished step \u001b[1mBayesianGMMTargetProcessor\u001b[0m. Output \u001b[33mshape\u001b[0m=\u001b[1m(\u001b[0m\u001b[1;36m100\u001b[0m, \u001b[1;36m6\u001b[0m\u001b[1m)\u001b[0m. Time taken for step: \u001b[1;34m0:00:00\u001b[0m\u001b[34m.\u001b[0m\u001b[1;34m401553\u001b[0m. ✅\n"
      ]
     },
     "metadata": {},
     "output_type": "display_data"
    },
    {
     "data": {
      "text/html": [
       "<div>\n",
       "<style scoped>\n",
       "    .dataframe tbody tr th:only-of-type {\n",
       "        vertical-align: middle;\n",
       "    }\n",
       "\n",
       "    .dataframe tbody tr th {\n",
       "        vertical-align: top;\n",
       "    }\n",
       "\n",
       "    .dataframe thead th {\n",
       "        text-align: right;\n",
       "    }\n",
       "</style>\n",
       "<table border=\"1\" class=\"dataframe\">\n",
       "  <thead>\n",
       "    <tr style=\"text-align: right;\">\n",
       "      <th></th>\n",
       "      <th>target</th>\n",
       "      <th>target_fake</th>\n",
       "    </tr>\n",
       "    <tr>\n",
       "      <th>id</th>\n",
       "      <th></th>\n",
       "      <th></th>\n",
       "    </tr>\n",
       "  </thead>\n",
       "  <tbody>\n",
       "    <tr>\n",
       "      <th>nc8e9c7b9fc085a4</th>\n",
       "      <td>0.5</td>\n",
       "      <td>0.5</td>\n",
       "    </tr>\n",
       "    <tr>\n",
       "      <th>nd4f0261b44c914e</th>\n",
       "      <td>0.5</td>\n",
       "      <td>0.5</td>\n",
       "    </tr>\n",
       "  </tbody>\n",
       "</table>\n",
       "</div>"
      ],
      "text/plain": [
       "                  target  target_fake\n",
       "id                                   \n",
       "nc8e9c7b9fc085a4     0.5          0.5\n",
       "nd4f0261b44c914e     0.5          0.5"
      ]
     },
     "execution_count": null,
     "metadata": {},
     "output_type": "execute_result"
    }
   ],
   "source": [
    "for target_col in sample_dataf.target_cols:\n",
    "    bgmm = BayesianGMMTargetProcessor(target_col=target_col)\n",
    "    sample_dataf = bgmm(sample_dataf)\n",
    "sample_dataf.get_target_data.head(2)"
   ]
  },
  {
   "attachments": {},
   "cell_type": "markdown",
   "metadata": {},
   "source": [
    "## 2. UMAPFeatureGenerator"
   ]
  },
  {
   "cell_type": "markdown",
   "metadata": {},
   "source": [
    "UMAP is a feature reduction technique that can be used to generate synthetic features. In other words, we create new representations of the existing features and add them to our dataset.\n",
    "\n",
    "We will perform UMAP on the training and validation data combined. Note that the data created with `DeepDreamGenerator` is included in this dataset. Then, once again we train a model on it and evaluate results."
   ]
  },
  {
   "cell_type": "code",
   "execution_count": null,
   "metadata": {},
   "outputs": [],
   "source": [
    "from numerblox.preprocessing import UMAPFeatureGenerator"
   ]
  },
  {
   "cell_type": "markdown",
   "metadata": {},
   "source": [
    "`n_components` denotes the amount of additional features we are generating."
   ]
  },
  {
   "cell_type": "code",
   "execution_count": null,
   "metadata": {},
   "outputs": [],
   "source": [
    "n_components = 3\n",
    "umap_gen = UMAPFeatureGenerator(n_components=n_components, n_neighbors=9)"
   ]
  },
  {
   "cell_type": "code",
   "execution_count": null,
   "metadata": {},
   "outputs": [],
   "source": [
    "test_data = create_numerframe(\"../test_assets/mini_numerai_version_2_data.parquet\")"
   ]
  },
  {
   "cell_type": "code",
   "execution_count": null,
   "metadata": {},
   "outputs": [],
   "source": [
    "test_data = umap_gen(test_data)"
   ]
  },
  {
   "cell_type": "markdown",
   "metadata": {},
   "source": [
    "The new features follow the naming convention `f\"feature_umap_{i}\"`. All new components are scaled between 0 and 1."
   ]
  },
  {
   "cell_type": "code",
   "execution_count": null,
   "metadata": {},
   "outputs": [
    {
     "data": {
      "text/html": [
       "<div>\n",
       "<style scoped>\n",
       "    .dataframe tbody tr th:only-of-type {\n",
       "        vertical-align: middle;\n",
       "    }\n",
       "\n",
       "    .dataframe tbody tr th {\n",
       "        vertical-align: top;\n",
       "    }\n",
       "\n",
       "    .dataframe thead th {\n",
       "        text-align: right;\n",
       "    }\n",
       "</style>\n",
       "<table border=\"1\" class=\"dataframe\">\n",
       "  <thead>\n",
       "    <tr style=\"text-align: right;\">\n",
       "      <th></th>\n",
       "      <th>feature_umap_0</th>\n",
       "      <th>feature_umap_1</th>\n",
       "      <th>feature_umap_2</th>\n",
       "    </tr>\n",
       "    <tr>\n",
       "      <th>id</th>\n",
       "      <th></th>\n",
       "      <th></th>\n",
       "      <th></th>\n",
       "    </tr>\n",
       "  </thead>\n",
       "  <tbody>\n",
       "    <tr>\n",
       "      <th>n559bd06a8861222</th>\n",
       "      <td>0.972190</td>\n",
       "      <td>0.257233</td>\n",
       "      <td>0.272728</td>\n",
       "    </tr>\n",
       "    <tr>\n",
       "      <th>n9d39dea58c9e3cf</th>\n",
       "      <td>0.804406</td>\n",
       "      <td>0.667506</td>\n",
       "      <td>0.000000</td>\n",
       "    </tr>\n",
       "    <tr>\n",
       "      <th>nb64f06d3a9fc9f1</th>\n",
       "      <td>0.279315</td>\n",
       "      <td>0.000000</td>\n",
       "      <td>0.731333</td>\n",
       "    </tr>\n",
       "  </tbody>\n",
       "</table>\n",
       "</div>"
      ],
      "text/plain": [
       "                  feature_umap_0  feature_umap_1  feature_umap_2\n",
       "id                                                              \n",
       "n559bd06a8861222        0.972190        0.257233        0.272728\n",
       "n9d39dea58c9e3cf        0.804406        0.667506        0.000000\n",
       "nb64f06d3a9fc9f1        0.279315        0.000000        0.731333"
      ]
     },
     "execution_count": null,
     "metadata": {},
     "output_type": "execute_result"
    }
   ],
   "source": [
    "umap_features = [f\"feature_umap_{i}\" for i in range(n_components)]\n",
    "test_data[umap_features].head(3)"
   ]
  },
  {
   "cell_type": "markdown",
   "metadata": {},
   "source": [
    "Contrast this with the deep dream results."
   ]
  },
  {
   "cell_type": "markdown",
   "metadata": {},
   "source": [
    "After you're done all the downloaded files can be cleaned up with `.remove_base_directory()`."
   ]
  },
  {
   "cell_type": "code",
   "execution_count": null,
   "metadata": {},
   "outputs": [
    {
     "data": {
      "text/html": [
       "<pre style=\"white-space:pre;overflow-x:auto;line-height:normal;font-family:Menlo,'DejaVu Sans Mono',consolas,'Courier New',monospace\">⚠ <span style=\"color: #800000; text-decoration-color: #800000\">Deleting directory for </span><span style=\"color: #800000; text-decoration-color: #800000\">'NumeraiClassicDownloader</span><span style=\"color: #008000; text-decoration-color: #008000\">'</span> ⚠\n",
       "Path: <span style=\"color: #008000; text-decoration-color: #008000\">'/home/clepelaars/numerblox/nbs/edu_nbs/synth_test'</span>\n",
       "</pre>\n"
      ],
      "text/plain": [
       "⚠ \u001b[31mDeleting directory for \u001b[0m\u001b[31m'NumeraiClassicDownloader\u001b[0m\u001b[32m'\u001b[0m ⚠\n",
       "Path: \u001b[32m'/home/clepelaars/numerblox/nbs/edu_nbs/synth_test'\u001b[0m\n"
      ]
     },
     "metadata": {},
     "output_type": "display_data"
    }
   ],
   "source": [
    "# Clean up environment\n",
    "dl.remove_base_directory()"
   ]
  },
  {
   "cell_type": "code",
   "execution_count": null,
   "metadata": {},
   "outputs": [],
   "source": []
  }
 ],
 "metadata": {
  "kernelspec": {
   "display_name": "python3",
   "language": "python",
   "name": "python3"
  }
 },
 "nbformat": 4,
 "nbformat_minor": 0
}
