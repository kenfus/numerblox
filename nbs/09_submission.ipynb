{
 "cells": [
  {
   "cell_type": "raw",
   "metadata": {},
   "source": [
    "---\n",
    "description: Uploading predictions to Numerai.\n",
    "output-file: submission.html\n",
    "title: Submission\n",
    "\n",
    "---\n",
    "\n"
   ]
  },
  {
   "cell_type": "code",
   "execution_count": null,
   "metadata": {},
   "outputs": [
    {
     "data": {
      "application/javascript": [
       "\n",
       "            setTimeout(function() {\n",
       "                var nbb_cell_id = 1;\n",
       "                var nbb_unformatted_code = \"# hide\\n%load_ext autoreload\\n%autoreload 2\\n%load_ext nb_black\\n%load_ext lab_black\";\n",
       "                var nbb_formatted_code = \"# hide\\n%load_ext autoreload\\n%autoreload 2\\n%load_ext nb_black\\n%load_ext lab_black\";\n",
       "                var nbb_cells = Jupyter.notebook.get_cells();\n",
       "                for (var i = 0; i < nbb_cells.length; ++i) {\n",
       "                    if (nbb_cells[i].input_prompt_number == nbb_cell_id) {\n",
       "                        if (nbb_cells[i].get_text() == nbb_unformatted_code) {\n",
       "                             nbb_cells[i].set_text(nbb_formatted_code);\n",
       "                        }\n",
       "                        break;\n",
       "                    }\n",
       "                }\n",
       "            }, 500);\n",
       "            "
      ],
      "text/plain": [
       "<IPython.core.display.Javascript object>"
      ]
     },
     "metadata": {},
     "output_type": "display_data"
    }
   ],
   "source": [
    "#| include: false\n",
    "%load_ext autoreload\n",
    "%autoreload 2"
   ]
  },
  {
   "cell_type": "code",
   "execution_count": null,
   "metadata": {},
   "outputs": [
    {
     "data": {
      "application/javascript": [
       "\n",
       "            setTimeout(function() {\n",
       "                var nbb_cell_id = 2;\n",
       "                var nbb_unformatted_code = \"# default_exp submission\";\n",
       "                var nbb_formatted_code = \"# default_exp submission\";\n",
       "                var nbb_cells = Jupyter.notebook.get_cells();\n",
       "                for (var i = 0; i < nbb_cells.length; ++i) {\n",
       "                    if (nbb_cells[i].input_prompt_number == nbb_cell_id) {\n",
       "                        if (nbb_cells[i].get_text() == nbb_unformatted_code) {\n",
       "                             nbb_cells[i].set_text(nbb_formatted_code);\n",
       "                        }\n",
       "                        break;\n",
       "                    }\n",
       "                }\n",
       "            }, 500);\n",
       "            "
      ],
      "text/plain": [
       "<IPython.core.display.Javascript object>"
      ]
     },
     "metadata": {},
     "output_type": "display_data"
    }
   ],
   "source": [
    "#| default_exp submission"
   ]
  },
  {
   "cell_type": "code",
   "execution_count": null,
   "metadata": {},
   "outputs": [
    {
     "data": {
      "application/javascript": [
       "\n",
       "            setTimeout(function() {\n",
       "                var nbb_cell_id = 3;\n",
       "                var nbb_unformatted_code = \"# hide\\nfrom nbdev.showdoc import *\";\n",
       "                var nbb_formatted_code = \"# hide\\nfrom nbdev.showdoc import *\";\n",
       "                var nbb_cells = Jupyter.notebook.get_cells();\n",
       "                for (var i = 0; i < nbb_cells.length; ++i) {\n",
       "                    if (nbb_cells[i].input_prompt_number == nbb_cell_id) {\n",
       "                        if (nbb_cells[i].get_text() == nbb_unformatted_code) {\n",
       "                             nbb_cells[i].set_text(nbb_formatted_code);\n",
       "                        }\n",
       "                        break;\n",
       "                    }\n",
       "                }\n",
       "            }, 500);\n",
       "            "
      ],
      "text/plain": [
       "<IPython.core.display.Javascript object>"
      ]
     },
     "metadata": {},
     "output_type": "display_data"
    }
   ],
   "source": [
    "#| include: false\n",
    "from nbdev.showdoc import *"
   ]
  },
  {
   "cell_type": "code",
   "execution_count": null,
   "metadata": {},
   "outputs": [
    {
     "data": {
      "application/javascript": [
       "\n",
       "            setTimeout(function() {\n",
       "                var nbb_cell_id = 4;\n",
       "                var nbb_unformatted_code = \"# export\\nimport os\\nimport uuid\\nimport numpy as np\\nimport pandas as pd\\nfrom typing import Union\\nfrom copy import deepcopy\\nfrom random import choices\\nfrom tqdm.auto import tqdm\\nfrom datetime import datetime\\nfrom abc import abstractmethod\\nfrom typeguard import typechecked\\nfrom string import ascii_uppercase\\nfrom rich import print as rich_print\\nfrom numerapi import NumerAPI, SignalsAPI\\nfrom numerbay import NumerBay\\nfrom dateutil.relativedelta import relativedelta, FR\\n\\nfrom numerblox.download import BaseIO\\nfrom numerblox.key import Key\";\n",
       "                var nbb_formatted_code = \"# export\\nimport os\\nimport uuid\\nimport numpy as np\\nimport pandas as pd\\nfrom typing import Union\\nfrom copy import deepcopy\\nfrom random import choices\\nfrom tqdm.auto import tqdm\\nfrom datetime import datetime\\nfrom abc import abstractmethod\\nfrom typeguard import typechecked\\nfrom string import ascii_uppercase\\nfrom rich import print as rich_print\\nfrom numerapi import NumerAPI, SignalsAPI\\nfrom numerbay import NumerBay\\nfrom dateutil.relativedelta import relativedelta, FR\\n\\nfrom numerblox.download import BaseIO\\nfrom numerblox.key import Key\";\n",
       "                var nbb_cells = Jupyter.notebook.get_cells();\n",
       "                for (var i = 0; i < nbb_cells.length; ++i) {\n",
       "                    if (nbb_cells[i].input_prompt_number == nbb_cell_id) {\n",
       "                        if (nbb_cells[i].get_text() == nbb_unformatted_code) {\n",
       "                             nbb_cells[i].set_text(nbb_formatted_code);\n",
       "                        }\n",
       "                        break;\n",
       "                    }\n",
       "                }\n",
       "            }, 500);\n",
       "            "
      ],
      "text/plain": [
       "<IPython.core.display.Javascript object>"
      ]
     },
     "metadata": {},
     "output_type": "display_data"
    }
   ],
   "source": [
    "#| export\n",
    "import os\n",
    "import uuid\n",
    "import numpy as np\n",
    "import pandas as pd\n",
    "from typing import Union\n",
    "from copy import deepcopy\n",
    "from random import choices\n",
    "from tqdm.auto import tqdm\n",
    "from datetime import datetime\n",
    "from abc import abstractmethod\n",
    "from typeguard import typechecked\n",
    "from string import ascii_uppercase\n",
    "from rich import print as rich_print\n",
    "from numerapi import NumerAPI, SignalsAPI\n",
    "from numerbay import NumerBay\n",
    "from dateutil.relativedelta import relativedelta, FR\n",
    "\n",
    "from numerblox.download import BaseIO\n",
    "from numerblox.key import Key"
   ]
  },
  {
   "cell_type": "markdown",
   "metadata": {},
   "source": [
    "## 0. BaseSubmitter"
   ]
  },
  {
   "cell_type": "markdown",
   "metadata": {},
   "source": [
    "`BaseSubmitter` handles all submission logic common to Numerai Classic and Numerai Signals. Under the hood directory logic is handled by `BaseIO`.\n",
    "Each submittor should inherit from `BaseSubmitter` and implement the `.save_csv` method."
   ]
  },
  {
   "cell_type": "code",
   "execution_count": null,
   "metadata": {},
   "outputs": [
    {
     "data": {
      "application/javascript": [
       "\n",
       "            setTimeout(function() {\n",
       "                var nbb_cell_id = 5;\n",
       "                var nbb_unformatted_code = \"# export\\n@typechecked\\nclass BaseSubmitter(BaseIO):\\n    \\\"\\\"\\\"\\n    Basic functionality for submitting to Numerai. \\\\n\\n    Uses numerapi under the hood.\\n    More info: https://numerapi.readthedocs.io/ \\\\n\\n\\n    :param directory_path: Directory to store and read submissions from. \\\\n\\n    :param api: NumerAPI or SignalsAPI\\n    \\\"\\\"\\\"\\n    def __init__(self, directory_path: str, api: Union[NumerAPI, SignalsAPI]):\\n        super().__init__(directory_path)\\n        self.api = api\\n\\n    @abstractmethod\\n    def save_csv(\\n        self,\\n        dataf: pd.DataFrame,\\n        file_name: str,\\n        cols: Union[str, list],\\n        *args,\\n        **kwargs,\\n    ):\\n        \\\"\\\"\\\"\\n        For Numerai Classic: Save index column + 'cols' (targets) to CSV.\\n        For Numerai Signals: Save ticker, friday_date, data_type and signal columns to CSV.\\n        \\\"\\\"\\\"\\n        ...\\n\\n    def upload_predictions(self, file_name: str, model_name: str, *args, **kwargs):\\n        \\\"\\\"\\\"\\n        Upload CSV file to Numerai for given model name.\\n        :param file_name: File name/path relative to directory_path.\\n        :param model_name: Lowercase raw model name (For example, 'integration_test').\\n        \\\"\\\"\\\"\\n        full_path = str(self.dir / file_name)\\n        model_id = self._get_model_id(model_name=model_name)\\n        api_type = str(self.api.__class__.__name__)\\n        rich_print(\\n            f\\\":airplane: {api_type}: Uploading predictions from '{full_path}' for model [bold blue]'{model_name}'[/bold blue] (model_id='{model_id}') :airplane:\\\"\\n        )\\n        self.api.upload_predictions(\\n            file_path=full_path, model_id=model_id, *args, **kwargs\\n        )\\n        rich_print(\\n            f\\\":thumbs_up: {api_type} submission of '{full_path}' for [bold blue]{model_name}[/bold blue] is successful! :thumbs_up:\\\"\\n        )\\n\\n    def full_submission(\\n        self,\\n        dataf: pd.DataFrame,\\n        model_name: str,\\n        cols: Union[str, list],\\n        file_name: str = 'submission.csv',\\n        *args,\\n        **kwargs,\\n    ):\\n        \\\"\\\"\\\"\\n        Save DataFrame to csv and upload predictions through API.\\n\\n        :param dataf: Main DataFrame containing `cols`.\\n        :param model_name: Lowercase Numerai model name.\\n        :param file_name: path to save model to relative to base directory.\\n        :param cols: Columns to be saved in submission file.\\n        1 prediction column for Numerai Classic.\\n        At least 1 prediction column and 1 ticker column for Numerai Signals.\\n        *args, **kwargs are passed to numerapi API.\\n        For example `version` argument in Numerai Classic submissions.\\n        \\\"\\\"\\\"\\n        self.save_csv(dataf=dataf, file_name=file_name, cols=cols)\\n        self.upload_predictions(\\n            file_name=file_name, model_name=model_name,\\n            *args, **kwargs\\n        )\\n\\n    def combine_csvs(self, csv_paths: list,\\n                     aux_cols: list,\\n                     era_col: str = None,\\n                     pred_col: str = 'prediction') -> pd.DataFrame:\\n        \\\"\\\"\\\"\\n        Read in csv files and combine all predictions with a rank mean. \\\\n\\n        Multi-target predictions will be averaged out. \\\\n\\n        :param csv_paths: List of full paths to .csv prediction files. \\\\n\\n        :param aux_cols: ['id'] for Numerai Classic. \\\\n\\n        ['ticker', 'last_friday', 'data_type'], for example, with Numerai Signals. \\\\n\\n        :param era_col: Column indicating era ('era' or 'last_friday'). \\\\n\\n        Will be used for Grouping the rank mean if given. Skip groupby if no era_col provided. \\\\n\\n        :param pred_col: 'prediction' for Numerai Classic and 'signal' for Numerai Signals.\\n        \\\"\\\"\\\"\\n        all_datafs = [pd.read_csv(path, index_col=aux_cols) for path in tqdm(csv_paths)]\\n        final_dataf = pd.concat(all_datafs, axis=\\\"columns\\\")\\n        # Remove issue of duplicate columns\\n        numeric_cols = final_dataf.select_dtypes(include=np.number).columns\\n        final_dataf.rename({k: str(v) for k, v in zip(numeric_cols, range(len(numeric_cols)))},\\n                           axis=1,\\n                           inplace=True)\\n        # Combine all numeric columns with rank mean\\n        num_dataf = final_dataf.select_dtypes(include=np.number)\\n        num_dataf = num_dataf.groupby(era_col) if era_col else num_dataf\\n        final_dataf[pred_col] = num_dataf.rank(pct=True, method=\\\"first\\\").mean(axis=1)\\n        return final_dataf[[pred_col]]\\n\\n    def _get_model_id(self, model_name: str) -> str:\\n        \\\"\\\"\\\"\\n        Get ID needed for prediction uploading.\\n        :param model_name: Raw lowercase model name\\n        of Numerai model that you have access to.\\n        \\\"\\\"\\\"\\n        return self.get_model_mapping[model_name]\\n\\n    @property\\n    def get_model_mapping(self) -> dict:\\n        \\\"\\\"\\\"Mapping between raw model names and model IDs.\\\"\\\"\\\"\\n        return self.api.get_models()\\n\\n    def _check_value_range(self, dataf: pd.DataFrame, cols: Union[str, list]):\\n        \\\"\\\"\\\" Check if all predictions are in range (0...1). \\\"\\\"\\\"\\n        cols = [cols] if isinstance(cols, str) else cols\\n        for col in cols:\\n            if not dataf[col].between(0, 1).all():\\n                min_val, max_val = dataf[col].min(), dataf[col].max()\\n                raise ValueError(\\n                    f\\\"Values must be between 0 and 1. \\\\\\nFound min value of '{min_val}' and max value of '{max_val}' for column '{col}'.\\\"\\n                )\\n\\n    def __call__(\\n            self,\\n            dataf: pd.DataFrame,\\n            model_name: str,\\n            file_name: str = \\\"submission.csv\\\",\\n            cols: Union[str, list] = \\\"prediction\\\",\\n            *args,\\n            **kwargs,\\n    ):\\n        \\\"\\\"\\\"\\n        The most common use case will be to create a CSV and submit it immediately after that.\\n        full_submission handles this.\\n        \\\"\\\"\\\"\\n        self.full_submission(\\n            dataf=dataf,\\n            file_name=file_name,\\n            model_name=model_name,\\n            cols=cols,\\n            *args,\\n            **kwargs,\\n        )\";\n",
       "                var nbb_formatted_code = \"# export\\n@typechecked\\nclass BaseSubmitter(BaseIO):\\n    \\\"\\\"\\\"\\n    Basic functionality for submitting to Numerai. \\\\n\\n    Uses numerapi under the hood.\\n    More info: https://numerapi.readthedocs.io/ \\\\n\\n\\n    :param directory_path: Directory to store and read submissions from. \\\\n\\n    :param api: NumerAPI or SignalsAPI\\n    \\\"\\\"\\\"\\n\\n    def __init__(self, directory_path: str, api: Union[NumerAPI, SignalsAPI]):\\n        super().__init__(directory_path)\\n        self.api = api\\n\\n    @abstractmethod\\n    def save_csv(\\n        self,\\n        dataf: pd.DataFrame,\\n        file_name: str,\\n        cols: Union[str, list],\\n        *args,\\n        **kwargs,\\n    ):\\n        \\\"\\\"\\\"\\n        For Numerai Classic: Save index column + 'cols' (targets) to CSV.\\n        For Numerai Signals: Save ticker, friday_date, data_type and signal columns to CSV.\\n        \\\"\\\"\\\"\\n        ...\\n\\n    def upload_predictions(self, file_name: str, model_name: str, *args, **kwargs):\\n        \\\"\\\"\\\"\\n        Upload CSV file to Numerai for given model name.\\n        :param file_name: File name/path relative to directory_path.\\n        :param model_name: Lowercase raw model name (For example, 'integration_test').\\n        \\\"\\\"\\\"\\n        full_path = str(self.dir / file_name)\\n        model_id = self._get_model_id(model_name=model_name)\\n        api_type = str(self.api.__class__.__name__)\\n        rich_print(\\n            f\\\":airplane: {api_type}: Uploading predictions from '{full_path}' for model [bold blue]'{model_name}'[/bold blue] (model_id='{model_id}') :airplane:\\\"\\n        )\\n        self.api.upload_predictions(\\n            file_path=full_path, model_id=model_id, *args, **kwargs\\n        )\\n        rich_print(\\n            f\\\":thumbs_up: {api_type} submission of '{full_path}' for [bold blue]{model_name}[/bold blue] is successful! :thumbs_up:\\\"\\n        )\\n\\n    def full_submission(\\n        self,\\n        dataf: pd.DataFrame,\\n        model_name: str,\\n        cols: Union[str, list],\\n        file_name: str = \\\"submission.csv\\\",\\n        *args,\\n        **kwargs,\\n    ):\\n        \\\"\\\"\\\"\\n        Save DataFrame to csv and upload predictions through API.\\n\\n        :param dataf: Main DataFrame containing `cols`.\\n        :param model_name: Lowercase Numerai model name.\\n        :param file_name: path to save model to relative to base directory.\\n        :param cols: Columns to be saved in submission file.\\n        1 prediction column for Numerai Classic.\\n        At least 1 prediction column and 1 ticker column for Numerai Signals.\\n        *args, **kwargs are passed to numerapi API.\\n        For example `version` argument in Numerai Classic submissions.\\n        \\\"\\\"\\\"\\n        self.save_csv(dataf=dataf, file_name=file_name, cols=cols)\\n        self.upload_predictions(\\n            file_name=file_name, model_name=model_name, *args, **kwargs\\n        )\\n\\n    def combine_csvs(\\n        self,\\n        csv_paths: list,\\n        aux_cols: list,\\n        era_col: str = None,\\n        pred_col: str = \\\"prediction\\\",\\n    ) -> pd.DataFrame:\\n        \\\"\\\"\\\"\\n        Read in csv files and combine all predictions with a rank mean. \\\\n\\n        Multi-target predictions will be averaged out. \\\\n\\n        :param csv_paths: List of full paths to .csv prediction files. \\\\n\\n        :param aux_cols: ['id'] for Numerai Classic. \\\\n\\n        ['ticker', 'last_friday', 'data_type'], for example, with Numerai Signals. \\\\n\\n        :param era_col: Column indicating era ('era' or 'last_friday'). \\\\n\\n        Will be used for Grouping the rank mean if given. Skip groupby if no era_col provided. \\\\n\\n        :param pred_col: 'prediction' for Numerai Classic and 'signal' for Numerai Signals.\\n        \\\"\\\"\\\"\\n        all_datafs = [pd.read_csv(path, index_col=aux_cols) for path in tqdm(csv_paths)]\\n        final_dataf = pd.concat(all_datafs, axis=\\\"columns\\\")\\n        # Remove issue of duplicate columns\\n        numeric_cols = final_dataf.select_dtypes(include=np.number).columns\\n        final_dataf.rename(\\n            {k: str(v) for k, v in zip(numeric_cols, range(len(numeric_cols)))},\\n            axis=1,\\n            inplace=True,\\n        )\\n        # Combine all numeric columns with rank mean\\n        num_dataf = final_dataf.select_dtypes(include=np.number)\\n        num_dataf = num_dataf.groupby(era_col) if era_col else num_dataf\\n        final_dataf[pred_col] = num_dataf.rank(pct=True, method=\\\"first\\\").mean(axis=1)\\n        return final_dataf[[pred_col]]\\n\\n    def _get_model_id(self, model_name: str) -> str:\\n        \\\"\\\"\\\"\\n        Get ID needed for prediction uploading.\\n        :param model_name: Raw lowercase model name\\n        of Numerai model that you have access to.\\n        \\\"\\\"\\\"\\n        return self.get_model_mapping[model_name]\\n\\n    @property\\n    def get_model_mapping(self) -> dict:\\n        \\\"\\\"\\\"Mapping between raw model names and model IDs.\\\"\\\"\\\"\\n        return self.api.get_models()\\n\\n    def _check_value_range(self, dataf: pd.DataFrame, cols: Union[str, list]):\\n        \\\"\\\"\\\"Check if all predictions are in range (0...1).\\\"\\\"\\\"\\n        cols = [cols] if isinstance(cols, str) else cols\\n        for col in cols:\\n            if not dataf[col].between(0, 1).all():\\n                min_val, max_val = dataf[col].min(), dataf[col].max()\\n                raise ValueError(\\n                    f\\\"Values must be between 0 and 1. \\\\\\nFound min value of '{min_val}' and max value of '{max_val}' for column '{col}'.\\\"\\n                )\\n\\n    def __call__(\\n        self,\\n        dataf: pd.DataFrame,\\n        model_name: str,\\n        file_name: str = \\\"submission.csv\\\",\\n        cols: Union[str, list] = \\\"prediction\\\",\\n        *args,\\n        **kwargs,\\n    ):\\n        \\\"\\\"\\\"\\n        The most common use case will be to create a CSV and submit it immediately after that.\\n        full_submission handles this.\\n        \\\"\\\"\\\"\\n        self.full_submission(\\n            dataf=dataf,\\n            file_name=file_name,\\n            model_name=model_name,\\n            cols=cols,\\n            *args,\\n            **kwargs,\\n        )\";\n",
       "                var nbb_cells = Jupyter.notebook.get_cells();\n",
       "                for (var i = 0; i < nbb_cells.length; ++i) {\n",
       "                    if (nbb_cells[i].input_prompt_number == nbb_cell_id) {\n",
       "                        if (nbb_cells[i].get_text() == nbb_unformatted_code) {\n",
       "                             nbb_cells[i].set_text(nbb_formatted_code);\n",
       "                        }\n",
       "                        break;\n",
       "                    }\n",
       "                }\n",
       "            }, 500);\n",
       "            "
      ],
      "text/plain": [
       "<IPython.core.display.Javascript object>"
      ]
     },
     "metadata": {},
     "output_type": "display_data"
    }
   ],
   "source": [
    "#| export\n",
    "@typechecked\n",
    "class BaseSubmitter(BaseIO):\n",
    "    \"\"\"\n",
    "    Basic functionality for submitting to Numerai. \\n\n",
    "    Uses numerapi under the hood.\n",
    "    More info: https://numerapi.readthedocs.io/ \\n\n",
    "\n",
    "    :param directory_path: Directory to store and read submissions from. \\n\n",
    "    :param api: NumerAPI or SignalsAPI\n",
    "    \"\"\"\n",
    "    def __init__(self, directory_path: str, api: Union[NumerAPI, SignalsAPI]):\n",
    "        super().__init__(directory_path)\n",
    "        self.api = api\n",
    "\n",
    "    @abstractmethod\n",
    "    def save_csv(\n",
    "        self,\n",
    "        dataf: pd.DataFrame,\n",
    "        file_name: str,\n",
    "        cols: Union[str, list],\n",
    "        *args,\n",
    "        **kwargs,\n",
    "    ):\n",
    "        \"\"\"\n",
    "        For Numerai Classic: Save index column + 'cols' (targets) to CSV.\n",
    "        For Numerai Signals: Save ticker, friday_date, data_type and signal columns to CSV.\n",
    "        \"\"\"\n",
    "        ...\n",
    "\n",
    "    def upload_predictions(self, file_name: str, model_name: str, *args, **kwargs):\n",
    "        \"\"\"\n",
    "        Upload CSV file to Numerai for given model name.\n",
    "        :param file_name: File name/path relative to directory_path.\n",
    "        :param model_name: Lowercase raw model name (For example, 'integration_test').\n",
    "        \"\"\"\n",
    "        full_path = str(self.dir / file_name)\n",
    "        model_id = self._get_model_id(model_name=model_name)\n",
    "        api_type = str(self.api.__class__.__name__)\n",
    "        rich_print(\n",
    "            f\":airplane: {api_type}: Uploading predictions from '{full_path}' for model [bold blue]'{model_name}'[/bold blue] (model_id='{model_id}') :airplane:\"\n",
    "        )\n",
    "        self.api.upload_predictions(\n",
    "            file_path=full_path, model_id=model_id, *args, **kwargs\n",
    "        )\n",
    "        rich_print(\n",
    "            f\":thumbs_up: {api_type} submission of '{full_path}' for [bold blue]{model_name}[/bold blue] is successful! :thumbs_up:\"\n",
    "        )\n",
    "\n",
    "    def full_submission(\n",
    "        self,\n",
    "        dataf: pd.DataFrame,\n",
    "        model_name: str,\n",
    "        cols: Union[str, list],\n",
    "        file_name: str = 'submission.csv',\n",
    "        *args,\n",
    "        **kwargs,\n",
    "    ):\n",
    "        \"\"\"\n",
    "        Save DataFrame to csv and upload predictions through API.\n",
    "\n",
    "        :param dataf: Main DataFrame containing `cols`.\n",
    "        :param model_name: Lowercase Numerai model name.\n",
    "        :param file_name: path to save model to relative to base directory.\n",
    "        :param cols: Columns to be saved in submission file.\n",
    "        1 prediction column for Numerai Classic.\n",
    "        At least 1 prediction column and 1 ticker column for Numerai Signals.\n",
    "        *args, **kwargs are passed to numerapi API.\n",
    "        For example `version` argument in Numerai Classic submissions.\n",
    "        \"\"\"\n",
    "        self.save_csv(dataf=dataf, file_name=file_name, cols=cols)\n",
    "        self.upload_predictions(\n",
    "            file_name=file_name, model_name=model_name,\n",
    "            *args, **kwargs\n",
    "        )\n",
    "\n",
    "    def combine_csvs(self, csv_paths: list,\n",
    "                     aux_cols: list,\n",
    "                     era_col: str = None,\n",
    "                     pred_col: str = 'prediction') -> pd.DataFrame:\n",
    "        \"\"\"\n",
    "        Read in csv files and combine all predictions with a rank mean. \\n\n",
    "        Multi-target predictions will be averaged out. \\n\n",
    "        :param csv_paths: List of full paths to .csv prediction files. \\n\n",
    "        :param aux_cols: ['id'] for Numerai Classic. \\n\n",
    "        ['ticker', 'last_friday', 'data_type'], for example, with Numerai Signals. \\n\n",
    "        :param era_col: Column indicating era ('era' or 'last_friday'). \\n\n",
    "        Will be used for Grouping the rank mean if given. Skip groupby if no era_col provided. \\n\n",
    "        :param pred_col: 'prediction' for Numerai Classic and 'signal' for Numerai Signals.\n",
    "        \"\"\"\n",
    "        all_datafs = [pd.read_csv(path, index_col=aux_cols) for path in tqdm(csv_paths)]\n",
    "        final_dataf = pd.concat(all_datafs, axis=\"columns\")\n",
    "        # Remove issue of duplicate columns\n",
    "        numeric_cols = final_dataf.select_dtypes(include=np.number).columns\n",
    "        final_dataf.rename({k: str(v) for k, v in zip(numeric_cols, range(len(numeric_cols)))},\n",
    "                           axis=1,\n",
    "                           inplace=True)\n",
    "        # Combine all numeric columns with rank mean\n",
    "        num_dataf = final_dataf.select_dtypes(include=np.number)\n",
    "        num_dataf = num_dataf.groupby(era_col) if era_col else num_dataf\n",
    "        final_dataf[pred_col] = num_dataf.rank(pct=True, method=\"first\").mean(axis=1)\n",
    "        return final_dataf[[pred_col]]\n",
    "\n",
    "    def _get_model_id(self, model_name: str) -> str:\n",
    "        \"\"\"\n",
    "        Get ID needed for prediction uploading.\n",
    "        :param model_name: Raw lowercase model name\n",
    "        of Numerai model that you have access to.\n",
    "        \"\"\"\n",
    "        return self.get_model_mapping[model_name]\n",
    "\n",
    "    @property\n",
    "    def get_model_mapping(self) -> dict:\n",
    "        \"\"\"Mapping between raw model names and model IDs.\"\"\"\n",
    "        return self.api.get_models()\n",
    "\n",
    "    def _check_value_range(self, dataf: pd.DataFrame, cols: Union[str, list]):\n",
    "        \"\"\" Check if all predictions are in range (0...1). \"\"\"\n",
    "        cols = [cols] if isinstance(cols, str) else cols\n",
    "        for col in cols:\n",
    "            if not dataf[col].between(0, 1).all():\n",
    "                min_val, max_val = dataf[col].min(), dataf[col].max()\n",
    "                raise ValueError(\n",
    "                    f\"Values must be between 0 and 1. \\\n",
    "Found min value of '{min_val}' and max value of '{max_val}' for column '{col}'.\"\n",
    "                )\n",
    "\n",
    "    def __call__(\n",
    "            self,\n",
    "            dataf: pd.DataFrame,\n",
    "            model_name: str,\n",
    "            file_name: str = \"submission.csv\",\n",
    "            cols: Union[str, list] = \"prediction\",\n",
    "            *args,\n",
    "            **kwargs,\n",
    "    ):\n",
    "        \"\"\"\n",
    "        The most common use case will be to create a CSV and submit it immediately after that.\n",
    "        full_submission handles this.\n",
    "        \"\"\"\n",
    "        self.full_submission(\n",
    "            dataf=dataf,\n",
    "            file_name=file_name,\n",
    "            model_name=model_name,\n",
    "            cols=cols,\n",
    "            *args,\n",
    "            **kwargs,\n",
    "        )"
   ]
  },
  {
   "cell_type": "markdown",
   "metadata": {},
   "source": [
    "## 1. NumeraiClassicSubmitter"
   ]
  },
  {
   "cell_type": "markdown",
   "metadata": {},
   "source": [
    "For Numerai Classic submissions. Uses [NumerAPI](https://numerapi.readthedocs.io/en/latest/_modules/numerapi/numerapi.html) under the hood.\n",
    "\n",
    "Note that using submitters requires a `Key` object."
   ]
  },
  {
   "cell_type": "code",
   "execution_count": null,
   "metadata": {},
   "outputs": [
    {
     "data": {
      "application/javascript": [
       "\n",
       "            setTimeout(function() {\n",
       "                var nbb_cell_id = 6;\n",
       "                var nbb_unformatted_code = \"# export\\n@typechecked\\nclass NumeraiClassicSubmitter(BaseSubmitter):\\n    \\\"\\\"\\\"\\n    Submit for Numerai Classic.\\n\\n    :param directory_path: Base directory to save and read prediction files from. \\\\n\\n    :param key: Key object containing valid credentials for Numerai Classic. \\\\n\\n    *args, **kwargs will be passed to NumerAPI initialization.\\n    \\\"\\\"\\\"\\n    def __init__(self, directory_path: str, key: Key, *args, **kwargs):\\n        api = NumerAPI(public_id=key.pub_id, secret_key=key.secret_key, *args, **kwargs)\\n        super().__init__(\\n            directory_path=directory_path, api=api\\n        )\\n\\n    def save_csv(\\n            self,\\n            dataf: pd.DataFrame,\\n            file_name: str = \\\"submission.csv\\\",\\n            cols: str = 'prediction',\\n            *args,\\n            **kwargs,\\n    ):\\n        \\\"\\\"\\\"\\n        :param dataf: DataFrame which should have at least the following columns:\\n        1. id (as index column)\\n        2. cols (for example, 'prediction_mymodel'). Will be saved in 'prediction' column\\n        :param file_name: .csv file path.\\n        :param cols: Prediction column name.\\n        For example, 'prediction' or 'prediction_mymodel'.\\n        \\\"\\\"\\\"\\n        sub_dataf = deepcopy(dataf)\\n        self._check_value_range(dataf=sub_dataf, cols=cols)\\n\\n        full_path = str(self.dir / file_name)\\n        rich_print(\\n            f\\\":page_facing_up: Saving predictions CSV to '{full_path}'. :page_facing_up:\\\"\\n        )\\n        sub_dataf.loc[:, 'prediction'] = sub_dataf[cols]\\n        sub_dataf.loc[:, 'prediction'].to_csv(full_path, *args, **kwargs)\";\n",
       "                var nbb_formatted_code = \"# export\\n@typechecked\\nclass NumeraiClassicSubmitter(BaseSubmitter):\\n    \\\"\\\"\\\"\\n    Submit for Numerai Classic.\\n\\n    :param directory_path: Base directory to save and read prediction files from. \\\\n\\n    :param key: Key object containing valid credentials for Numerai Classic. \\\\n\\n    *args, **kwargs will be passed to NumerAPI initialization.\\n    \\\"\\\"\\\"\\n\\n    def __init__(self, directory_path: str, key: Key, *args, **kwargs):\\n        api = NumerAPI(public_id=key.pub_id, secret_key=key.secret_key, *args, **kwargs)\\n        super().__init__(directory_path=directory_path, api=api)\\n\\n    def save_csv(\\n        self,\\n        dataf: pd.DataFrame,\\n        file_name: str = \\\"submission.csv\\\",\\n        cols: str = \\\"prediction\\\",\\n        *args,\\n        **kwargs,\\n    ):\\n        \\\"\\\"\\\"\\n        :param dataf: DataFrame which should have at least the following columns:\\n        1. id (as index column)\\n        2. cols (for example, 'prediction_mymodel'). Will be saved in 'prediction' column\\n        :param file_name: .csv file path.\\n        :param cols: Prediction column name.\\n        For example, 'prediction' or 'prediction_mymodel'.\\n        \\\"\\\"\\\"\\n        sub_dataf = deepcopy(dataf)\\n        self._check_value_range(dataf=sub_dataf, cols=cols)\\n\\n        full_path = str(self.dir / file_name)\\n        rich_print(\\n            f\\\":page_facing_up: Saving predictions CSV to '{full_path}'. :page_facing_up:\\\"\\n        )\\n        sub_dataf.loc[:, \\\"prediction\\\"] = sub_dataf[cols]\\n        sub_dataf.loc[:, \\\"prediction\\\"].to_csv(full_path, *args, **kwargs)\";\n",
       "                var nbb_cells = Jupyter.notebook.get_cells();\n",
       "                for (var i = 0; i < nbb_cells.length; ++i) {\n",
       "                    if (nbb_cells[i].input_prompt_number == nbb_cell_id) {\n",
       "                        if (nbb_cells[i].get_text() == nbb_unformatted_code) {\n",
       "                             nbb_cells[i].set_text(nbb_formatted_code);\n",
       "                        }\n",
       "                        break;\n",
       "                    }\n",
       "                }\n",
       "            }, 500);\n",
       "            "
      ],
      "text/plain": [
       "<IPython.core.display.Javascript object>"
      ]
     },
     "metadata": {},
     "output_type": "display_data"
    }
   ],
   "source": [
    "#| export\n",
    "@typechecked\n",
    "class NumeraiClassicSubmitter(BaseSubmitter):\n",
    "    \"\"\"\n",
    "    Submit for Numerai Classic.\n",
    "\n",
    "    :param directory_path: Base directory to save and read prediction files from. \\n\n",
    "    :param key: Key object containing valid credentials for Numerai Classic. \\n\n",
    "    *args, **kwargs will be passed to NumerAPI initialization.\n",
    "    \"\"\"\n",
    "    def __init__(self, directory_path: str, key: Key, *args, **kwargs):\n",
    "        api = NumerAPI(public_id=key.pub_id, secret_key=key.secret_key, *args, **kwargs)\n",
    "        super().__init__(\n",
    "            directory_path=directory_path, api=api\n",
    "        )\n",
    "\n",
    "    def save_csv(\n",
    "            self,\n",
    "            dataf: pd.DataFrame,\n",
    "            file_name: str = \"submission.csv\",\n",
    "            cols: str = 'prediction',\n",
    "            *args,\n",
    "            **kwargs,\n",
    "    ):\n",
    "        \"\"\"\n",
    "        :param dataf: DataFrame which should have at least the following columns:\n",
    "        1. id (as index column)\n",
    "        2. cols (for example, 'prediction_mymodel'). Will be saved in 'prediction' column\n",
    "        :param file_name: .csv file path.\n",
    "        :param cols: Prediction column name.\n",
    "        For example, 'prediction' or 'prediction_mymodel'.\n",
    "        \"\"\"\n",
    "        sub_dataf = deepcopy(dataf)\n",
    "        self._check_value_range(dataf=sub_dataf, cols=cols)\n",
    "\n",
    "        full_path = str(self.dir / file_name)\n",
    "        rich_print(\n",
    "            f\":page_facing_up: Saving predictions CSV to '{full_path}'. :page_facing_up:\"\n",
    "        )\n",
    "        sub_dataf.loc[:, 'prediction'] = sub_dataf[cols]\n",
    "        sub_dataf.loc[:, 'prediction'].to_csv(full_path, *args, **kwargs)"
   ]
  },
  {
   "cell_type": "markdown",
   "metadata": {},
   "source": [
    "### Example usage 1: NumeraiClassicSubmitter"
   ]
  },
  {
   "cell_type": "code",
   "execution_count": null,
   "metadata": {},
   "outputs": [
    {
     "data": {
      "text/html": [
       "<pre style=\"white-space:pre;overflow-x:auto;line-height:normal;font-family:Menlo,'DejaVu Sans Mono',consolas,'Courier New',monospace\">🔑 Numerai Auth key initialized with pub_id = <span style=\"color: #008000; text-decoration-color: #008000\">'UFVCTElDX0lE'</span> 🔑\n",
       "</pre>\n"
      ],
      "text/plain": [
       "🔑 Numerai Auth key initialized with pub_id = \u001b[32m'UFVCTElDX0lE'\u001b[0m 🔑\n"
      ]
     },
     "metadata": {},
     "output_type": "display_data"
    },
    {
     "data": {
      "text/html": [
       "<pre style=\"white-space:pre;overflow-x:auto;line-height:normal;font-family:Menlo,'DejaVu Sans Mono',consolas,'Courier New',monospace\">No existing directory found at <span style=\"color: #008000; text-decoration-color: #008000\">'</span><span style=\"color: #000080; text-decoration-color: #000080\">test_sub</span><span style=\"color: #008000; text-decoration-color: #008000\">'</span>. Creating directory<span style=\"color: #808000; text-decoration-color: #808000\">...</span>\n",
       "</pre>\n"
      ],
      "text/plain": [
       "No existing directory found at \u001b[32m'\u001b[0m\u001b[34mtest_sub\u001b[0m\u001b[32m'\u001b[0m. Creating directory\u001b[33m...\u001b[0m\n"
      ]
     },
     "metadata": {},
     "output_type": "display_data"
    },
    {
     "data": {
      "text/html": [
       "<div>\n",
       "<style scoped>\n",
       "    .dataframe tbody tr th:only-of-type {\n",
       "        vertical-align: middle;\n",
       "    }\n",
       "\n",
       "    .dataframe tbody tr th {\n",
       "        vertical-align: top;\n",
       "    }\n",
       "\n",
       "    .dataframe thead th {\n",
       "        text-align: right;\n",
       "    }\n",
       "</style>\n",
       "<table border=\"1\" class=\"dataframe\">\n",
       "  <thead>\n",
       "    <tr style=\"text-align: right;\">\n",
       "      <th></th>\n",
       "      <th>prediction_mymodel</th>\n",
       "    </tr>\n",
       "    <tr>\n",
       "      <th>id</th>\n",
       "      <th></th>\n",
       "    </tr>\n",
       "  </thead>\n",
       "  <tbody>\n",
       "    <tr>\n",
       "      <th>d5285fe7-1e1e-4d77-b71e-ebb760c79570</th>\n",
       "      <td>0.082175</td>\n",
       "    </tr>\n",
       "    <tr>\n",
       "      <th>268a957e-89f1-42fc-b247-4a121b727317</th>\n",
       "      <td>0.601661</td>\n",
       "    </tr>\n",
       "  </tbody>\n",
       "</table>\n",
       "</div>"
      ],
      "text/plain": [
       "                                      prediction_mymodel\n",
       "id                                                      \n",
       "d5285fe7-1e1e-4d77-b71e-ebb760c79570            0.082175\n",
       "268a957e-89f1-42fc-b247-4a121b727317            0.601661"
      ]
     },
     "execution_count": null,
     "metadata": {},
     "output_type": "execute_result"
    },
    {
     "data": {
      "application/javascript": [
       "\n",
       "            setTimeout(function() {\n",
       "                var nbb_cell_id = 7;\n",
       "                var nbb_unformatted_code = \"# example 1\\n# Initialization (Random credentials)\\ntest_dir = \\\"test_sub\\\"\\nclassic_key = Key(pub_id=\\\"UFVCTElDX0lE\\\", secret_key=\\\"U1VQRVJfU0VDUkVUX0tFWQ==\\\")\\nnum_sub = NumeraiClassicSubmitter(directory_path=test_dir, key=classic_key)\\nassert num_sub.dir.is_dir()\\n\\n# Create random dataframe\\nn_rows = 100\\ntargets = \\\"prediction_mymodel\\\"\\ntest_dataf = pd.DataFrame(np.random.uniform(size=n_rows), columns=[targets])\\ntest_dataf[\\\"id\\\"] = [uuid.uuid4() for _ in range(n_rows)]\\ntest_dataf = test_dataf.set_index(\\\"id\\\")\\ntest_dataf.head(2)\";\n",
       "                var nbb_formatted_code = \"# example 1\\n# Initialization (Random credentials)\\ntest_dir = \\\"test_sub\\\"\\nclassic_key = Key(pub_id=\\\"UFVCTElDX0lE\\\", secret_key=\\\"U1VQRVJfU0VDUkVUX0tFWQ==\\\")\\nnum_sub = NumeraiClassicSubmitter(directory_path=test_dir, key=classic_key)\\nassert num_sub.dir.is_dir()\\n\\n# Create random dataframe\\nn_rows = 100\\ntargets = \\\"prediction_mymodel\\\"\\ntest_dataf = pd.DataFrame(np.random.uniform(size=n_rows), columns=[targets])\\ntest_dataf[\\\"id\\\"] = [uuid.uuid4() for _ in range(n_rows)]\\ntest_dataf = test_dataf.set_index(\\\"id\\\")\\ntest_dataf.head(2)\";\n",
       "                var nbb_cells = Jupyter.notebook.get_cells();\n",
       "                for (var i = 0; i < nbb_cells.length; ++i) {\n",
       "                    if (nbb_cells[i].input_prompt_number == nbb_cell_id) {\n",
       "                        if (nbb_cells[i].get_text() == nbb_unformatted_code) {\n",
       "                             nbb_cells[i].set_text(nbb_formatted_code);\n",
       "                        }\n",
       "                        break;\n",
       "                    }\n",
       "                }\n",
       "            }, 500);\n",
       "            "
      ],
      "text/plain": [
       "<IPython.core.display.Javascript object>"
      ]
     },
     "metadata": {},
     "output_type": "display_data"
    }
   ],
   "source": [
    "# example 1\n",
    "# Initialization (Random credentials)\n",
    "test_dir = \"test_sub\"\n",
    "classic_key = Key(pub_id=\"UFVCTElDX0lE\", secret_key=\"U1VQRVJfU0VDUkVUX0tFWQ==\")\n",
    "num_sub = NumeraiClassicSubmitter(directory_path=test_dir, key=classic_key)\n",
    "assert num_sub.dir.is_dir()\n",
    "\n",
    "# Create random dataframe\n",
    "n_rows = 100\n",
    "targets = \"prediction_mymodel\"\n",
    "test_dataf = pd.DataFrame(np.random.uniform(size=n_rows), columns=[targets])\n",
    "test_dataf[\"id\"] = [uuid.uuid4() for _ in range(n_rows)]\n",
    "test_dataf = test_dataf.set_index(\"id\")\n",
    "test_dataf.head(2)"
   ]
  },
  {
   "cell_type": "markdown",
   "metadata": {},
   "source": [
    "CSVs can be saved with `.save_csv`. `NumeraiClassicSubmitter` will automatically provide checks to make sure that data is saved correctly."
   ]
  },
  {
   "cell_type": "code",
   "execution_count": null,
   "metadata": {},
   "outputs": [
    {
     "name": "stderr",
     "output_type": "stream",
     "text": [
      "2022-04-02 08:42:01,943 INFO numexpr.utils: Note: NumExpr detected 16 cores but \"NUMEXPR_MAX_THREADS\" not set, so enforcing safe limit of 8.\n",
      "2022-04-02 08:42:01,944 INFO numexpr.utils: NumExpr defaulting to 8 threads.\n"
     ]
    },
    {
     "data": {
      "text/html": [
       "<pre style=\"white-space:pre;overflow-x:auto;line-height:normal;font-family:Menlo,'DejaVu Sans Mono',consolas,'Courier New',monospace\">📄 Saving predictions CSV to <span style=\"color: #008000; text-decoration-color: #008000\">'test_sub/test.csv'</span>. 📄\n",
       "</pre>\n"
      ],
      "text/plain": [
       "📄 Saving predictions CSV to \u001b[32m'test_sub/test.csv'\u001b[0m. 📄\n"
      ]
     },
     "metadata": {},
     "output_type": "display_data"
    },
    {
     "data": {
      "text/html": [
       "<pre style=\"white-space:pre;overflow-x:auto;line-height:normal;font-family:Menlo,'DejaVu Sans Mono',consolas,'Courier New',monospace\">📄 Saving predictions CSV to <span style=\"color: #008000; text-decoration-color: #008000\">'test_sub/test2.csv'</span>. 📄\n",
       "</pre>\n"
      ],
      "text/plain": [
       "📄 Saving predictions CSV to \u001b[32m'test_sub/test2.csv'\u001b[0m. 📄\n"
      ]
     },
     "metadata": {},
     "output_type": "display_data"
    },
    {
     "data": {
      "text/html": [
       "<div>\n",
       "<style scoped>\n",
       "    .dataframe tbody tr th:only-of-type {\n",
       "        vertical-align: middle;\n",
       "    }\n",
       "\n",
       "    .dataframe tbody tr th {\n",
       "        vertical-align: top;\n",
       "    }\n",
       "\n",
       "    .dataframe thead th {\n",
       "        text-align: right;\n",
       "    }\n",
       "</style>\n",
       "<table border=\"1\" class=\"dataframe\">\n",
       "  <thead>\n",
       "    <tr style=\"text-align: right;\">\n",
       "      <th></th>\n",
       "      <th>id</th>\n",
       "      <th>prediction</th>\n",
       "    </tr>\n",
       "  </thead>\n",
       "  <tbody>\n",
       "    <tr>\n",
       "      <th>0</th>\n",
       "      <td>d5285fe7-1e1e-4d77-b71e-ebb760c79570</td>\n",
       "      <td>0.082175</td>\n",
       "    </tr>\n",
       "    <tr>\n",
       "      <th>1</th>\n",
       "      <td>268a957e-89f1-42fc-b247-4a121b727317</td>\n",
       "      <td>0.601661</td>\n",
       "    </tr>\n",
       "  </tbody>\n",
       "</table>\n",
       "</div>"
      ],
      "text/plain": [
       "                                     id  prediction\n",
       "0  d5285fe7-1e1e-4d77-b71e-ebb760c79570    0.082175\n",
       "1  268a957e-89f1-42fc-b247-4a121b727317    0.601661"
      ]
     },
     "execution_count": null,
     "metadata": {},
     "output_type": "execute_result"
    },
    {
     "data": {
      "application/javascript": [
       "\n",
       "            setTimeout(function() {\n",
       "                var nbb_cell_id = 8;\n",
       "                var nbb_unformatted_code = \"file_name = \\\"test.csv\\\"\\nnum_sub.save_csv(dataf=test_dataf, file_name=file_name, cols=targets)\\nnum_sub.save_csv(dataf=test_dataf, file_name=\\\"test2.csv\\\", cols=targets)\\npd.read_csv(f\\\"{test_dir}/{file_name}\\\").head(2)\";\n",
       "                var nbb_formatted_code = \"file_name = \\\"test.csv\\\"\\nnum_sub.save_csv(dataf=test_dataf, file_name=file_name, cols=targets)\\nnum_sub.save_csv(dataf=test_dataf, file_name=\\\"test2.csv\\\", cols=targets)\\npd.read_csv(f\\\"{test_dir}/{file_name}\\\").head(2)\";\n",
       "                var nbb_cells = Jupyter.notebook.get_cells();\n",
       "                for (var i = 0; i < nbb_cells.length; ++i) {\n",
       "                    if (nbb_cells[i].input_prompt_number == nbb_cell_id) {\n",
       "                        if (nbb_cells[i].get_text() == nbb_unformatted_code) {\n",
       "                             nbb_cells[i].set_text(nbb_formatted_code);\n",
       "                        }\n",
       "                        break;\n",
       "                    }\n",
       "                }\n",
       "            }, 500);\n",
       "            "
      ],
      "text/plain": [
       "<IPython.core.display.Javascript object>"
      ]
     },
     "metadata": {},
     "output_type": "display_data"
    }
   ],
   "source": [
    "file_name = \"test.csv\"\n",
    "num_sub.save_csv(dataf=test_dataf, file_name=file_name, cols=targets)\n",
    "num_sub.save_csv(dataf=test_dataf, file_name=\"test2.csv\", cols=targets)\n",
    "pd.read_csv(f\"{test_dir}/{file_name}\").head(2)"
   ]
  },
  {
   "cell_type": "markdown",
   "metadata": {},
   "source": [
    "`NumeraiClassicSubmitter` also gives you the option to combine multiple predictions csvs that you already created. Prediction will be standardized by default."
   ]
  },
  {
   "cell_type": "code",
   "execution_count": null,
   "metadata": {},
   "outputs": [
    {
     "data": {
      "text/markdown": [
       "<h4 id=\"BaseSubmitter.combine_csvs\" class=\"doc_header\"><code>BaseSubmitter.combine_csvs</code><a href=\"__main__.py#L77\" class=\"source_link\" style=\"float:right\">[source]</a></h4>\n",
       "\n",
       "> <code>BaseSubmitter.combine_csvs</code>(**`csv_paths`**:`list`, **`aux_cols`**:`list`, **`era_col`**:`str`=*`None`*, **`pred_col`**:`str`=*`'prediction'`*)\n",
       "\n",
       "Read in csv files and combine all predictions with a rank mean. \n",
       "\n",
       "Multi-target predictions will be averaged out. \n",
       "\n",
       ":param csv_paths: List of full paths to .csv prediction files. \n",
       "\n",
       ":param aux_cols: ['id'] for Numerai Classic. \n",
       "\n",
       "['ticker', 'last_friday', 'data_type'], for example, with Numerai Signals. \n",
       "\n",
       ":param era_col: Column indicating era ('era' or 'last_friday'). \n",
       "\n",
       "Will be used for Grouping the rank mean if given. Skip groupby if no era_col provided. \n",
       "\n",
       ":param pred_col: 'prediction' for Numerai Classic and 'signal' for Numerai Signals."
      ],
      "text/plain": [
       "<IPython.core.display.Markdown object>"
      ]
     },
     "metadata": {},
     "output_type": "display_data"
    },
    {
     "data": {
      "application/javascript": [
       "\n",
       "            setTimeout(function() {\n",
       "                var nbb_cell_id = 9;\n",
       "                var nbb_unformatted_code = \"#hide_input\\nshow_doc(NumeraiClassicSubmitter.combine_csvs)\";\n",
       "                var nbb_formatted_code = \"# hide_input\\nshow_doc(NumeraiClassicSubmitter.combine_csvs)\";\n",
       "                var nbb_cells = Jupyter.notebook.get_cells();\n",
       "                for (var i = 0; i < nbb_cells.length; ++i) {\n",
       "                    if (nbb_cells[i].input_prompt_number == nbb_cell_id) {\n",
       "                        if (nbb_cells[i].get_text() == nbb_unformatted_code) {\n",
       "                             nbb_cells[i].set_text(nbb_formatted_code);\n",
       "                        }\n",
       "                        break;\n",
       "                    }\n",
       "                }\n",
       "            }, 500);\n",
       "            "
      ],
      "text/plain": [
       "<IPython.core.display.Javascript object>"
      ]
     },
     "metadata": {},
     "output_type": "display_data"
    }
   ],
   "source": [
    "#| echo: false\n",
    "show_doc(NumeraiClassicSubmitter.combine_csvs)"
   ]
  },
  {
   "cell_type": "code",
   "execution_count": null,
   "metadata": {},
   "outputs": [
    {
     "data": {
      "application/vnd.jupyter.widget-view+json": {
       "model_id": "5a7e4e593b7f4d69812ff90edbe2ab0f",
       "version_major": 2,
       "version_minor": 0
      },
      "text/plain": [
       "  0%|          | 0/2 [00:00<?, ?it/s]"
      ]
     },
     "metadata": {},
     "output_type": "display_data"
    },
    {
     "data": {
      "text/html": [
       "<div>\n",
       "<style scoped>\n",
       "    .dataframe tbody tr th:only-of-type {\n",
       "        vertical-align: middle;\n",
       "    }\n",
       "\n",
       "    .dataframe tbody tr th {\n",
       "        vertical-align: top;\n",
       "    }\n",
       "\n",
       "    .dataframe thead th {\n",
       "        text-align: right;\n",
       "    }\n",
       "</style>\n",
       "<table border=\"1\" class=\"dataframe\">\n",
       "  <thead>\n",
       "    <tr style=\"text-align: right;\">\n",
       "      <th></th>\n",
       "      <th>prediction</th>\n",
       "    </tr>\n",
       "    <tr>\n",
       "      <th>id</th>\n",
       "      <th></th>\n",
       "    </tr>\n",
       "  </thead>\n",
       "  <tbody>\n",
       "    <tr>\n",
       "      <th>d5285fe7-1e1e-4d77-b71e-ebb760c79570</th>\n",
       "      <td>0.11</td>\n",
       "    </tr>\n",
       "    <tr>\n",
       "      <th>268a957e-89f1-42fc-b247-4a121b727317</th>\n",
       "      <td>0.72</td>\n",
       "    </tr>\n",
       "  </tbody>\n",
       "</table>\n",
       "</div>"
      ],
      "text/plain": [
       "                                      prediction\n",
       "id                                              \n",
       "d5285fe7-1e1e-4d77-b71e-ebb760c79570        0.11\n",
       "268a957e-89f1-42fc-b247-4a121b727317        0.72"
      ]
     },
     "execution_count": null,
     "metadata": {},
     "output_type": "execute_result"
    },
    {
     "data": {
      "application/javascript": [
       "\n",
       "            setTimeout(function() {\n",
       "                var nbb_cell_id = 10;\n",
       "                var nbb_unformatted_code = \"combined = num_sub.combine_csvs([\\\"test_sub/test.csv\\\", \\\"test_sub/test2.csv\\\"], aux_cols=['id'])\\nassert combined.columns == ['prediction']\\ncombined.head(2)\";\n",
       "                var nbb_formatted_code = \"combined = num_sub.combine_csvs(\\n    [\\\"test_sub/test.csv\\\", \\\"test_sub/test2.csv\\\"], aux_cols=[\\\"id\\\"]\\n)\\nassert combined.columns == [\\\"prediction\\\"]\\ncombined.head(2)\";\n",
       "                var nbb_cells = Jupyter.notebook.get_cells();\n",
       "                for (var i = 0; i < nbb_cells.length; ++i) {\n",
       "                    if (nbb_cells[i].input_prompt_number == nbb_cell_id) {\n",
       "                        if (nbb_cells[i].get_text() == nbb_unformatted_code) {\n",
       "                             nbb_cells[i].set_text(nbb_formatted_code);\n",
       "                        }\n",
       "                        break;\n",
       "                    }\n",
       "                }\n",
       "            }, 500);\n",
       "            "
      ],
      "text/plain": [
       "<IPython.core.display.Javascript object>"
      ]
     },
     "metadata": {},
     "output_type": "display_data"
    }
   ],
   "source": [
    "combined = num_sub.combine_csvs([\"test_sub/test.csv\", \"test_sub/test2.csv\"], aux_cols=['id'])\n",
    "assert combined.columns == ['prediction']\n",
    "combined.head(2)"
   ]
  },
  {
   "cell_type": "code",
   "execution_count": null,
   "metadata": {},
   "outputs": [
    {
     "data": {
      "application/javascript": [
       "\n",
       "            setTimeout(function() {\n",
       "                var nbb_cell_id = 11;\n",
       "                var nbb_unformatted_code = \"# hide\\ndef test_signal_validity(\\n        submitter: NumeraiClassicSubmitter, dataf: pd.DataFrame\\n):\\n    \\\"\\\"\\\" Test value range of prediction. \\\"\\\"\\\"\\n    try:\\n        invalid_signal = deepcopy(dataf)\\n        invalid_signal.iloc[0][\\\"prediction_mymodel\\\"] += 10\\n        submitter.save_csv(\\n            invalid_signal,\\n            file_name=\\\"should_not_save.csv\\\",\\n            cols=\\\"prediction_mymodel\\\",\\n        )\\n    except ValueError:\\n        return True\\n    return False\\n\\nassert test_signal_validity(num_sub, test_dataf)\";\n",
       "                var nbb_formatted_code = \"# hide\\ndef test_signal_validity(submitter: NumeraiClassicSubmitter, dataf: pd.DataFrame):\\n    \\\"\\\"\\\"Test value range of prediction.\\\"\\\"\\\"\\n    try:\\n        invalid_signal = deepcopy(dataf)\\n        invalid_signal.iloc[0][\\\"prediction_mymodel\\\"] += 10\\n        submitter.save_csv(\\n            invalid_signal,\\n            file_name=\\\"should_not_save.csv\\\",\\n            cols=\\\"prediction_mymodel\\\",\\n        )\\n    except ValueError:\\n        return True\\n    return False\\n\\n\\nassert test_signal_validity(num_sub, test_dataf)\";\n",
       "                var nbb_cells = Jupyter.notebook.get_cells();\n",
       "                for (var i = 0; i < nbb_cells.length; ++i) {\n",
       "                    if (nbb_cells[i].input_prompt_number == nbb_cell_id) {\n",
       "                        if (nbb_cells[i].get_text() == nbb_unformatted_code) {\n",
       "                             nbb_cells[i].set_text(nbb_formatted_code);\n",
       "                        }\n",
       "                        break;\n",
       "                    }\n",
       "                }\n",
       "            }, 500);\n",
       "            "
      ],
      "text/plain": [
       "<IPython.core.display.Javascript object>"
      ]
     },
     "metadata": {},
     "output_type": "display_data"
    }
   ],
   "source": [
    "#| include: false\n",
    "def test_signal_validity(\n",
    "        submitter: NumeraiClassicSubmitter, dataf: pd.DataFrame\n",
    "):\n",
    "    \"\"\" Test value range of prediction. \"\"\"\n",
    "    try:\n",
    "        invalid_signal = deepcopy(dataf)\n",
    "        invalid_signal.iloc[0][\"prediction_mymodel\"] += 10\n",
    "        submitter.save_csv(\n",
    "            invalid_signal,\n",
    "            file_name=\"should_not_save.csv\",\n",
    "            cols=\"prediction_mymodel\",\n",
    "        )\n",
    "    except ValueError:\n",
    "        return True\n",
    "    return False\n",
    "\n",
    "assert test_signal_validity(num_sub, test_dataf)"
   ]
  },
  {
   "cell_type": "markdown",
   "metadata": {},
   "source": [
    "Uncomment to save CSV and upload predictions in one go."
   ]
  },
  {
   "cell_type": "code",
   "execution_count": null,
   "metadata": {},
   "outputs": [
    {
     "data": {
      "application/javascript": [
       "\n",
       "            setTimeout(function() {\n",
       "                var nbb_cell_id = 12;\n",
       "                var nbb_unformatted_code = \"# Full submission\\n# num_sub.full_submission(dataf=test_dataf, file_name='test.csv', cols=targets, model_name=\\\"test\\\")\";\n",
       "                var nbb_formatted_code = \"# Full submission\\n# num_sub.full_submission(dataf=test_dataf, file_name='test.csv', cols=targets, model_name=\\\"test\\\")\";\n",
       "                var nbb_cells = Jupyter.notebook.get_cells();\n",
       "                for (var i = 0; i < nbb_cells.length; ++i) {\n",
       "                    if (nbb_cells[i].input_prompt_number == nbb_cell_id) {\n",
       "                        if (nbb_cells[i].get_text() == nbb_unformatted_code) {\n",
       "                             nbb_cells[i].set_text(nbb_formatted_code);\n",
       "                        }\n",
       "                        break;\n",
       "                    }\n",
       "                }\n",
       "            }, 500);\n",
       "            "
      ],
      "text/plain": [
       "<IPython.core.display.Javascript object>"
      ]
     },
     "metadata": {},
     "output_type": "display_data"
    }
   ],
   "source": [
    "# Full submission\n",
    "# num_sub.full_submission(dataf=test_dataf, file_name='test.csv', cols=targets, model_name=\"test\")"
   ]
  },
  {
   "cell_type": "markdown",
   "metadata": {},
   "source": [
    "After a successful submission, contents can be removed to keep a clean environment."
   ]
  },
  {
   "cell_type": "code",
   "execution_count": null,
   "metadata": {},
   "outputs": [
    {
     "data": {
      "text/html": [
       "<pre style=\"white-space:pre;overflow-x:auto;line-height:normal;font-family:Menlo,'DejaVu Sans Mono',consolas,'Courier New',monospace\">⚠ <span style=\"color: #800000; text-decoration-color: #800000\">Deleting directory for </span><span style=\"color: #800000; text-decoration-color: #800000\">'NumeraiClassicSubmitter</span><span style=\"color: #008000; text-decoration-color: #008000\">'</span> ⚠\n",
       "Path: <span style=\"color: #008000; text-decoration-color: #008000\">'/Users/clepelaars/Desktop/crowdcent/repositories/numerai-blocks/nbs/test_sub'</span>\n",
       "</pre>\n"
      ],
      "text/plain": [
       "⚠ \u001b[31mDeleting directory for \u001b[0m\u001b[31m'NumeraiClassicSubmitter\u001b[0m\u001b[32m'\u001b[0m ⚠\n",
       "Path: \u001b[32m'/Users/clepelaars/Desktop/crowdcent/repositories/numerai-blocks/nbs/test_sub'\u001b[0m\n"
      ]
     },
     "metadata": {},
     "output_type": "display_data"
    },
    {
     "data": {
      "application/javascript": [
       "\n",
       "            setTimeout(function() {\n",
       "                var nbb_cell_id = 13;\n",
       "                var nbb_unformatted_code = \"num_sub.remove_base_directory()\\nassert not os.path.exists(test_dir)\";\n",
       "                var nbb_formatted_code = \"num_sub.remove_base_directory()\\nassert not os.path.exists(test_dir)\";\n",
       "                var nbb_cells = Jupyter.notebook.get_cells();\n",
       "                for (var i = 0; i < nbb_cells.length; ++i) {\n",
       "                    if (nbb_cells[i].input_prompt_number == nbb_cell_id) {\n",
       "                        if (nbb_cells[i].get_text() == nbb_unformatted_code) {\n",
       "                             nbb_cells[i].set_text(nbb_formatted_code);\n",
       "                        }\n",
       "                        break;\n",
       "                    }\n",
       "                }\n",
       "            }, 500);\n",
       "            "
      ],
      "text/plain": [
       "<IPython.core.display.Javascript object>"
      ]
     },
     "metadata": {},
     "output_type": "display_data"
    }
   ],
   "source": [
    "num_sub.remove_base_directory()\n",
    "assert not os.path.exists(test_dir)"
   ]
  },
  {
   "cell_type": "markdown",
   "metadata": {},
   "source": []
  },
  {
   "cell_type": "markdown",
   "metadata": {},
   "source": [
    "## 2. NumeraiSignalsSubmitter"
   ]
  },
  {
   "cell_type": "markdown",
   "metadata": {},
   "source": [
    "Numerai Signals submissions. Uses [SignalsAPI](https://numerapi.readthedocs.io/en/latest/_modules/numerapi/signalsapi.html) under the hood."
   ]
  },
  {
   "cell_type": "code",
   "execution_count": null,
   "metadata": {},
   "outputs": [
    {
     "data": {
      "application/javascript": [
       "\n",
       "            setTimeout(function() {\n",
       "                var nbb_cell_id = 14;\n",
       "                var nbb_unformatted_code = \"# export\\n@typechecked\\nclass NumeraiSignalsSubmitter(BaseSubmitter):\\n    \\\"\\\"\\\"\\n    Submit for Numerai Signals.\\n\\n    :param directory_path: Base directory to save and read prediction files from. \\\\n\\n    :param key: Key object containing valid credentials for Numerai Signals. \\\\n\\n    *args, **kwargs will be passed to SignalsAPI initialization.\\n    \\\"\\\"\\\"\\n\\n    def __init__(self, directory_path: str, key: Key, *args, **kwargs):\\n        api = SignalsAPI(\\n            public_id=key.pub_id, secret_key=key.secret_key, *args, **kwargs\\n        )\\n        super().__init__(\\n            directory_path=directory_path, api=api\\n        )\\n        self.supported_ticker_formats = [\\n            \\\"cusip\\\",\\n            \\\"sedol\\\",\\n            \\\"ticker\\\",\\n            \\\"numerai_ticker\\\",\\n            \\\"bloomberg_ticker\\\",\\n        ]\\n\\n    def save_csv(\\n            self,\\n            dataf: pd.DataFrame,\\n            cols: list,\\n            file_name: str = \\\"submission.csv\\\",\\n            *args, **kwargs\\n    ):\\n        \\\"\\\"\\\"\\n        :param dataf: DataFrame which should have at least the following columns:\\n         1. One of supported ticker formats (cusip, sedol, ticker, numerai_ticker or bloomberg_ticker)\\n         2. signal (Values between 0 and 1 (exclusive))\\n         Additional columns for if you include validation data (optional):\\n         3. friday_date (YYYYMMDD format date indication)\\n         4. data_type ('val' and 'live' partitions)\\n\\n         :param cols: All cols that are saved in CSV.\\n         cols should contain at least 1 ticker column and a 'signal' column.\\n         For example: ['bloomberg_ticker', 'signal']\\n         :param file_name: .csv file path.\\n        \\\"\\\"\\\"\\n        self._check_ticker_format(cols=cols)\\n        self._check_value_range(dataf=dataf, cols=\\\"signal\\\")\\n\\n        full_path = str(self.dir / file_name)\\n        rich_print(\\n            f\\\":page_facing_up: Saving Signals predictions CSV to '{full_path}'. :page_facing_up:\\\"\\n        )\\n        dataf.loc[:, cols].reset_index(drop=True).to_csv(\\n            full_path, index=False, *args, **kwargs\\n        )\\n\\n    def _check_ticker_format(self, cols: list):\\n        \\\"\\\"\\\" Check for valid ticker format. \\\"\\\"\\\"\\n        valid_tickers = set(cols).intersection(set(self.supported_ticker_formats))\\n        if not valid_tickers:\\n            raise NotImplementedError(\\n                f\\\"No supported ticker format in {cols}). \\\\\\nSupported: '{self.supported_ticker_formats}'\\\"\\n            )\";\n",
       "                var nbb_formatted_code = \"# export\\n@typechecked\\nclass NumeraiSignalsSubmitter(BaseSubmitter):\\n    \\\"\\\"\\\"\\n    Submit for Numerai Signals.\\n\\n    :param directory_path: Base directory to save and read prediction files from. \\\\n\\n    :param key: Key object containing valid credentials for Numerai Signals. \\\\n\\n    *args, **kwargs will be passed to SignalsAPI initialization.\\n    \\\"\\\"\\\"\\n\\n    def __init__(self, directory_path: str, key: Key, *args, **kwargs):\\n        api = SignalsAPI(\\n            public_id=key.pub_id, secret_key=key.secret_key, *args, **kwargs\\n        )\\n        super().__init__(directory_path=directory_path, api=api)\\n        self.supported_ticker_formats = [\\n            \\\"cusip\\\",\\n            \\\"sedol\\\",\\n            \\\"ticker\\\",\\n            \\\"numerai_ticker\\\",\\n            \\\"bloomberg_ticker\\\",\\n        ]\\n\\n    def save_csv(\\n        self,\\n        dataf: pd.DataFrame,\\n        cols: list,\\n        file_name: str = \\\"submission.csv\\\",\\n        *args,\\n        **kwargs,\\n    ):\\n        \\\"\\\"\\\"\\n        :param dataf: DataFrame which should have at least the following columns:\\n         1. One of supported ticker formats (cusip, sedol, ticker, numerai_ticker or bloomberg_ticker)\\n         2. signal (Values between 0 and 1 (exclusive))\\n         Additional columns for if you include validation data (optional):\\n         3. friday_date (YYYYMMDD format date indication)\\n         4. data_type ('val' and 'live' partitions)\\n\\n         :param cols: All cols that are saved in CSV.\\n         cols should contain at least 1 ticker column and a 'signal' column.\\n         For example: ['bloomberg_ticker', 'signal']\\n         :param file_name: .csv file path.\\n        \\\"\\\"\\\"\\n        self._check_ticker_format(cols=cols)\\n        self._check_value_range(dataf=dataf, cols=\\\"signal\\\")\\n\\n        full_path = str(self.dir / file_name)\\n        rich_print(\\n            f\\\":page_facing_up: Saving Signals predictions CSV to '{full_path}'. :page_facing_up:\\\"\\n        )\\n        dataf.loc[:, cols].reset_index(drop=True).to_csv(\\n            full_path, index=False, *args, **kwargs\\n        )\\n\\n    def _check_ticker_format(self, cols: list):\\n        \\\"\\\"\\\"Check for valid ticker format.\\\"\\\"\\\"\\n        valid_tickers = set(cols).intersection(set(self.supported_ticker_formats))\\n        if not valid_tickers:\\n            raise NotImplementedError(\\n                f\\\"No supported ticker format in {cols}). \\\\\\nSupported: '{self.supported_ticker_formats}'\\\"\\n            )\";\n",
       "                var nbb_cells = Jupyter.notebook.get_cells();\n",
       "                for (var i = 0; i < nbb_cells.length; ++i) {\n",
       "                    if (nbb_cells[i].input_prompt_number == nbb_cell_id) {\n",
       "                        if (nbb_cells[i].get_text() == nbb_unformatted_code) {\n",
       "                             nbb_cells[i].set_text(nbb_formatted_code);\n",
       "                        }\n",
       "                        break;\n",
       "                    }\n",
       "                }\n",
       "            }, 500);\n",
       "            "
      ],
      "text/plain": [
       "<IPython.core.display.Javascript object>"
      ]
     },
     "metadata": {},
     "output_type": "display_data"
    }
   ],
   "source": [
    "#| export\n",
    "@typechecked\n",
    "class NumeraiSignalsSubmitter(BaseSubmitter):\n",
    "    \"\"\"\n",
    "    Submit for Numerai Signals.\n",
    "\n",
    "    :param directory_path: Base directory to save and read prediction files from. \\n\n",
    "    :param key: Key object containing valid credentials for Numerai Signals. \\n\n",
    "    *args, **kwargs will be passed to SignalsAPI initialization.\n",
    "    \"\"\"\n",
    "\n",
    "    def __init__(self, directory_path: str, key: Key, *args, **kwargs):\n",
    "        api = SignalsAPI(\n",
    "            public_id=key.pub_id, secret_key=key.secret_key, *args, **kwargs\n",
    "        )\n",
    "        super().__init__(\n",
    "            directory_path=directory_path, api=api\n",
    "        )\n",
    "        self.supported_ticker_formats = [\n",
    "            \"cusip\",\n",
    "            \"sedol\",\n",
    "            \"ticker\",\n",
    "            \"numerai_ticker\",\n",
    "            \"bloomberg_ticker\",\n",
    "        ]\n",
    "\n",
    "    def save_csv(\n",
    "            self,\n",
    "            dataf: pd.DataFrame,\n",
    "            cols: list,\n",
    "            file_name: str = \"submission.csv\",\n",
    "            *args, **kwargs\n",
    "    ):\n",
    "        \"\"\"\n",
    "        :param dataf: DataFrame which should have at least the following columns:\n",
    "         1. One of supported ticker formats (cusip, sedol, ticker, numerai_ticker or bloomberg_ticker)\n",
    "         2. signal (Values between 0 and 1 (exclusive))\n",
    "         Additional columns for if you include validation data (optional):\n",
    "         3. friday_date (YYYYMMDD format date indication)\n",
    "         4. data_type ('val' and 'live' partitions)\n",
    "\n",
    "         :param cols: All cols that are saved in CSV.\n",
    "         cols should contain at least 1 ticker column and a 'signal' column.\n",
    "         For example: ['bloomberg_ticker', 'signal']\n",
    "         :param file_name: .csv file path.\n",
    "        \"\"\"\n",
    "        self._check_ticker_format(cols=cols)\n",
    "        self._check_value_range(dataf=dataf, cols=\"signal\")\n",
    "\n",
    "        full_path = str(self.dir / file_name)\n",
    "        rich_print(\n",
    "            f\":page_facing_up: Saving Signals predictions CSV to '{full_path}'. :page_facing_up:\"\n",
    "        )\n",
    "        dataf.loc[:, cols].reset_index(drop=True).to_csv(\n",
    "            full_path, index=False, *args, **kwargs\n",
    "        )\n",
    "\n",
    "    def _check_ticker_format(self, cols: list):\n",
    "        \"\"\" Check for valid ticker format. \"\"\"\n",
    "        valid_tickers = set(cols).intersection(set(self.supported_ticker_formats))\n",
    "        if not valid_tickers:\n",
    "            raise NotImplementedError(\n",
    "                f\"No supported ticker format in {cols}). \\\n",
    "Supported: '{self.supported_ticker_formats}'\"\n",
    "            )"
   ]
  },
  {
   "cell_type": "markdown",
   "metadata": {},
   "source": [
    "### Example usage 2: NumeraiSignalsSubmitter"
   ]
  },
  {
   "cell_type": "markdown",
   "metadata": {},
   "source": [
    "Initialization (Random credentials)"
   ]
  },
  {
   "cell_type": "code",
   "execution_count": null,
   "metadata": {},
   "outputs": [
    {
     "data": {
      "text/html": [
       "<pre style=\"white-space:pre;overflow-x:auto;line-height:normal;font-family:Menlo,'DejaVu Sans Mono',consolas,'Courier New',monospace\">🔑 Numerai Auth key initialized with pub_id = <span style=\"color: #008000; text-decoration-color: #008000\">'UFVCTElDX0lE'</span> 🔑\n",
       "</pre>\n"
      ],
      "text/plain": [
       "🔑 Numerai Auth key initialized with pub_id = \u001b[32m'UFVCTElDX0lE'\u001b[0m 🔑\n"
      ]
     },
     "metadata": {},
     "output_type": "display_data"
    },
    {
     "data": {
      "text/html": [
       "<pre style=\"white-space:pre;overflow-x:auto;line-height:normal;font-family:Menlo,'DejaVu Sans Mono',consolas,'Courier New',monospace\">No existing directory found at <span style=\"color: #008000; text-decoration-color: #008000\">'</span><span style=\"color: #000080; text-decoration-color: #000080\">test_sub_signals</span><span style=\"color: #008000; text-decoration-color: #008000\">'</span>. Creating directory<span style=\"color: #808000; text-decoration-color: #808000\">...</span>\n",
       "</pre>\n"
      ],
      "text/plain": [
       "No existing directory found at \u001b[32m'\u001b[0m\u001b[34mtest_sub_signals\u001b[0m\u001b[32m'\u001b[0m. Creating directory\u001b[33m...\u001b[0m\n"
      ]
     },
     "metadata": {},
     "output_type": "display_data"
    },
    {
     "data": {
      "application/javascript": [
       "\n",
       "            setTimeout(function() {\n",
       "                var nbb_cell_id = 15;\n",
       "                var nbb_unformatted_code = \"test_dir_signals = \\\"test_sub_signals\\\"\\nsignals_key = Key(pub_id=\\\"UFVCTElDX0lE\\\", secret_key=\\\"U1VQRVJfU0VDUkVUX0tFWQ==\\\")\\nsignals_sub = NumeraiSignalsSubmitter(directory_path=test_dir_signals, key=signals_key)\\nassert signals_sub.dir.is_dir()\";\n",
       "                var nbb_formatted_code = \"test_dir_signals = \\\"test_sub_signals\\\"\\nsignals_key = Key(pub_id=\\\"UFVCTElDX0lE\\\", secret_key=\\\"U1VQRVJfU0VDUkVUX0tFWQ==\\\")\\nsignals_sub = NumeraiSignalsSubmitter(directory_path=test_dir_signals, key=signals_key)\\nassert signals_sub.dir.is_dir()\";\n",
       "                var nbb_cells = Jupyter.notebook.get_cells();\n",
       "                for (var i = 0; i < nbb_cells.length; ++i) {\n",
       "                    if (nbb_cells[i].input_prompt_number == nbb_cell_id) {\n",
       "                        if (nbb_cells[i].get_text() == nbb_unformatted_code) {\n",
       "                             nbb_cells[i].set_text(nbb_formatted_code);\n",
       "                        }\n",
       "                        break;\n",
       "                    }\n",
       "                }\n",
       "            }, 500);\n",
       "            "
      ],
      "text/plain": [
       "<IPython.core.display.Javascript object>"
      ]
     },
     "metadata": {},
     "output_type": "display_data"
    }
   ],
   "source": [
    "test_dir_signals = \"test_sub_signals\"\n",
    "signals_key = Key(pub_id=\"UFVCTElDX0lE\", secret_key=\"U1VQRVJfU0VDUkVUX0tFWQ==\")\n",
    "signals_sub = NumeraiSignalsSubmitter(directory_path=test_dir_signals, key=signals_key)\n",
    "assert signals_sub.dir.is_dir()"
   ]
  },
  {
   "cell_type": "code",
   "execution_count": null,
   "metadata": {},
   "outputs": [
    {
     "data": {
      "text/html": [
       "<div>\n",
       "<style scoped>\n",
       "    .dataframe tbody tr th:only-of-type {\n",
       "        vertical-align: middle;\n",
       "    }\n",
       "\n",
       "    .dataframe tbody tr th {\n",
       "        vertical-align: top;\n",
       "    }\n",
       "\n",
       "    .dataframe thead th {\n",
       "        text-align: right;\n",
       "    }\n",
       "</style>\n",
       "<table border=\"1\" class=\"dataframe\">\n",
       "  <thead>\n",
       "    <tr style=\"text-align: right;\">\n",
       "      <th></th>\n",
       "      <th>signal</th>\n",
       "      <th>ticker</th>\n",
       "      <th>last_friday</th>\n",
       "      <th>data_type</th>\n",
       "    </tr>\n",
       "  </thead>\n",
       "  <tbody>\n",
       "    <tr>\n",
       "      <th>0</th>\n",
       "      <td>0.745859</td>\n",
       "      <td>NCCM</td>\n",
       "      <td>20220401</td>\n",
       "      <td>live</td>\n",
       "    </tr>\n",
       "    <tr>\n",
       "      <th>1</th>\n",
       "      <td>0.815436</td>\n",
       "      <td>ZGKU</td>\n",
       "      <td>20220401</td>\n",
       "      <td>live</td>\n",
       "    </tr>\n",
       "  </tbody>\n",
       "</table>\n",
       "</div>"
      ],
      "text/plain": [
       "     signal ticker last_friday data_type\n",
       "0  0.745859   NCCM    20220401      live\n",
       "1  0.815436   ZGKU    20220401      live"
      ]
     },
     "execution_count": null,
     "metadata": {},
     "output_type": "execute_result"
    },
    {
     "data": {
      "application/javascript": [
       "\n",
       "            setTimeout(function() {\n",
       "                var nbb_cell_id = 16;\n",
       "                var nbb_unformatted_code = \"def create_random_signals_dataf(n_rows=5000):\\n    signals_test_dataf = pd.DataFrame(\\n        np.random.uniform(size=(n_rows, 1)), columns=[\\\"signal\\\"]\\n    )\\n    signals_test_dataf[\\\"ticker\\\"] = [\\n        \\\"\\\".join(choices(ascii_uppercase, k=4)) for _ in range(n_rows)\\n    ]\\n    last_friday = str((datetime.now() + relativedelta(weekday=FR(-1))).date()).replace(\\\"-\\\", \\\"\\\")\\n    signals_test_dataf['last_friday'] = last_friday\\n    signals_test_dataf['data_type'] = 'live'\\n    return signals_test_dataf\\n\\nsignals_test_dataf = create_random_signals_dataf()\\nsignals_test_dataf.head(2)\";\n",
       "                var nbb_formatted_code = \"def create_random_signals_dataf(n_rows=5000):\\n    signals_test_dataf = pd.DataFrame(\\n        np.random.uniform(size=(n_rows, 1)), columns=[\\\"signal\\\"]\\n    )\\n    signals_test_dataf[\\\"ticker\\\"] = [\\n        \\\"\\\".join(choices(ascii_uppercase, k=4)) for _ in range(n_rows)\\n    ]\\n    last_friday = str((datetime.now() + relativedelta(weekday=FR(-1))).date()).replace(\\n        \\\"-\\\", \\\"\\\"\\n    )\\n    signals_test_dataf[\\\"last_friday\\\"] = last_friday\\n    signals_test_dataf[\\\"data_type\\\"] = \\\"live\\\"\\n    return signals_test_dataf\\n\\n\\nsignals_test_dataf = create_random_signals_dataf()\\nsignals_test_dataf.head(2)\";\n",
       "                var nbb_cells = Jupyter.notebook.get_cells();\n",
       "                for (var i = 0; i < nbb_cells.length; ++i) {\n",
       "                    if (nbb_cells[i].input_prompt_number == nbb_cell_id) {\n",
       "                        if (nbb_cells[i].get_text() == nbb_unformatted_code) {\n",
       "                             nbb_cells[i].set_text(nbb_formatted_code);\n",
       "                        }\n",
       "                        break;\n",
       "                    }\n",
       "                }\n",
       "            }, 500);\n",
       "            "
      ],
      "text/plain": [
       "<IPython.core.display.Javascript object>"
      ]
     },
     "metadata": {},
     "output_type": "display_data"
    }
   ],
   "source": [
    "def create_random_signals_dataf(n_rows=5000):\n",
    "    signals_test_dataf = pd.DataFrame(\n",
    "        np.random.uniform(size=(n_rows, 1)), columns=[\"signal\"]\n",
    "    )\n",
    "    signals_test_dataf[\"ticker\"] = [\n",
    "        \"\".join(choices(ascii_uppercase, k=4)) for _ in range(n_rows)\n",
    "    ]\n",
    "    last_friday = str((datetime.now() + relativedelta(weekday=FR(-1))).date()).replace(\"-\", \"\")\n",
    "    signals_test_dataf['last_friday'] = last_friday\n",
    "    signals_test_dataf['data_type'] = 'live'\n",
    "    return signals_test_dataf\n",
    "\n",
    "signals_test_dataf = create_random_signals_dataf()\n",
    "signals_test_dataf.head(2)"
   ]
  },
  {
   "cell_type": "code",
   "execution_count": null,
   "metadata": {},
   "outputs": [
    {
     "data": {
      "text/html": [
       "<pre style=\"white-space:pre;overflow-x:auto;line-height:normal;font-family:Menlo,'DejaVu Sans Mono',consolas,'Courier New',monospace\">📄 Saving Signals predictions CSV to <span style=\"color: #008000; text-decoration-color: #008000\">'test_sub_signals/signals_test.csv'</span>. 📄\n",
       "</pre>\n"
      ],
      "text/plain": [
       "📄 Saving Signals predictions CSV to \u001b[32m'test_sub_signals/signals_test.csv'\u001b[0m. 📄\n"
      ]
     },
     "metadata": {},
     "output_type": "display_data"
    },
    {
     "data": {
      "text/html": [
       "<pre style=\"white-space:pre;overflow-x:auto;line-height:normal;font-family:Menlo,'DejaVu Sans Mono',consolas,'Courier New',monospace\">📄 Saving Signals predictions CSV to <span style=\"color: #008000; text-decoration-color: #008000\">'test_sub_signals/signals_test2.csv'</span>. 📄\n",
       "</pre>\n"
      ],
      "text/plain": [
       "📄 Saving Signals predictions CSV to \u001b[32m'test_sub_signals/signals_test2.csv'\u001b[0m. 📄\n"
      ]
     },
     "metadata": {},
     "output_type": "display_data"
    },
    {
     "data": {
      "text/html": [
       "<div>\n",
       "<style scoped>\n",
       "    .dataframe tbody tr th:only-of-type {\n",
       "        vertical-align: middle;\n",
       "    }\n",
       "\n",
       "    .dataframe tbody tr th {\n",
       "        vertical-align: top;\n",
       "    }\n",
       "\n",
       "    .dataframe thead th {\n",
       "        text-align: right;\n",
       "    }\n",
       "</style>\n",
       "<table border=\"1\" class=\"dataframe\">\n",
       "  <thead>\n",
       "    <tr style=\"text-align: right;\">\n",
       "      <th></th>\n",
       "      <th>signal</th>\n",
       "      <th>ticker</th>\n",
       "      <th>data_type</th>\n",
       "      <th>last_friday</th>\n",
       "    </tr>\n",
       "  </thead>\n",
       "  <tbody>\n",
       "    <tr>\n",
       "      <th>0</th>\n",
       "      <td>0.745859</td>\n",
       "      <td>NCCM</td>\n",
       "      <td>live</td>\n",
       "      <td>20220401</td>\n",
       "    </tr>\n",
       "    <tr>\n",
       "      <th>1</th>\n",
       "      <td>0.815436</td>\n",
       "      <td>ZGKU</td>\n",
       "      <td>live</td>\n",
       "      <td>20220401</td>\n",
       "    </tr>\n",
       "  </tbody>\n",
       "</table>\n",
       "</div>"
      ],
      "text/plain": [
       "     signal ticker data_type  last_friday\n",
       "0  0.745859   NCCM      live     20220401\n",
       "1  0.815436   ZGKU      live     20220401"
      ]
     },
     "execution_count": null,
     "metadata": {},
     "output_type": "execute_result"
    },
    {
     "data": {
      "application/javascript": [
       "\n",
       "            setTimeout(function() {\n",
       "                var nbb_cell_id = 17;\n",
       "                var nbb_unformatted_code = \"# hide\\nsignals_cols = [\\\"signal\\\", \\\"ticker\\\", \\\"data_type\\\", \\\"last_friday\\\"]\\nfile_name = \\\"signals_test.csv\\\"\\nsignals_sub.save_csv(dataf=signals_test_dataf, file_name=file_name, cols=signals_cols)\\nsignals_sub.save_csv(dataf=signals_test_dataf, file_name=\\\"signals_test2.csv\\\", cols=signals_cols)\\npd.read_csv(f\\\"{test_dir_signals}/{file_name}\\\").head(2)\";\n",
       "                var nbb_formatted_code = \"# hide\\nsignals_cols = [\\\"signal\\\", \\\"ticker\\\", \\\"data_type\\\", \\\"last_friday\\\"]\\nfile_name = \\\"signals_test.csv\\\"\\nsignals_sub.save_csv(dataf=signals_test_dataf, file_name=file_name, cols=signals_cols)\\nsignals_sub.save_csv(\\n    dataf=signals_test_dataf, file_name=\\\"signals_test2.csv\\\", cols=signals_cols\\n)\\npd.read_csv(f\\\"{test_dir_signals}/{file_name}\\\").head(2)\";\n",
       "                var nbb_cells = Jupyter.notebook.get_cells();\n",
       "                for (var i = 0; i < nbb_cells.length; ++i) {\n",
       "                    if (nbb_cells[i].input_prompt_number == nbb_cell_id) {\n",
       "                        if (nbb_cells[i].get_text() == nbb_unformatted_code) {\n",
       "                             nbb_cells[i].set_text(nbb_formatted_code);\n",
       "                        }\n",
       "                        break;\n",
       "                    }\n",
       "                }\n",
       "            }, 500);\n",
       "            "
      ],
      "text/plain": [
       "<IPython.core.display.Javascript object>"
      ]
     },
     "metadata": {},
     "output_type": "display_data"
    }
   ],
   "source": [
    "#| include: false\n",
    "signals_cols = [\"signal\", \"ticker\", \"data_type\", \"last_friday\"]\n",
    "file_name = \"signals_test.csv\"\n",
    "signals_sub.save_csv(dataf=signals_test_dataf, file_name=file_name, cols=signals_cols)\n",
    "signals_sub.save_csv(dataf=signals_test_dataf, file_name=\"signals_test2.csv\", cols=signals_cols)\n",
    "pd.read_csv(f\"{test_dir_signals}/{file_name}\").head(2)"
   ]
  },
  {
   "cell_type": "code",
   "execution_count": null,
   "metadata": {},
   "outputs": [
    {
     "data": {
      "application/vnd.jupyter.widget-view+json": {
       "model_id": "0b561a82e7bd4ca69c16940b29646130",
       "version_major": 2,
       "version_minor": 0
      },
      "text/plain": [
       "  0%|          | 0/2 [00:00<?, ?it/s]"
      ]
     },
     "metadata": {},
     "output_type": "display_data"
    },
    {
     "data": {
      "text/html": [
       "<div>\n",
       "<style scoped>\n",
       "    .dataframe tbody tr th:only-of-type {\n",
       "        vertical-align: middle;\n",
       "    }\n",
       "\n",
       "    .dataframe tbody tr th {\n",
       "        vertical-align: top;\n",
       "    }\n",
       "\n",
       "    .dataframe thead th {\n",
       "        text-align: right;\n",
       "    }\n",
       "</style>\n",
       "<table border=\"1\" class=\"dataframe\">\n",
       "  <thead>\n",
       "    <tr style=\"text-align: right;\">\n",
       "      <th></th>\n",
       "      <th></th>\n",
       "      <th></th>\n",
       "      <th>signal</th>\n",
       "    </tr>\n",
       "    <tr>\n",
       "      <th>ticker</th>\n",
       "      <th>last_friday</th>\n",
       "      <th>data_type</th>\n",
       "      <th></th>\n",
       "    </tr>\n",
       "  </thead>\n",
       "  <tbody>\n",
       "    <tr>\n",
       "      <th>NCCM</th>\n",
       "      <th>20220401</th>\n",
       "      <th>live</th>\n",
       "      <td>0.7310</td>\n",
       "    </tr>\n",
       "    <tr>\n",
       "      <th>ZGKU</th>\n",
       "      <th>20220401</th>\n",
       "      <th>live</th>\n",
       "      <td>0.8062</td>\n",
       "    </tr>\n",
       "  </tbody>\n",
       "</table>\n",
       "</div>"
      ],
      "text/plain": [
       "                              signal\n",
       "ticker last_friday data_type        \n",
       "NCCM   20220401    live       0.7310\n",
       "ZGKU   20220401    live       0.8062"
      ]
     },
     "execution_count": null,
     "metadata": {},
     "output_type": "execute_result"
    },
    {
     "data": {
      "application/javascript": [
       "\n",
       "            setTimeout(function() {\n",
       "                var nbb_cell_id = 18;\n",
       "                var nbb_unformatted_code = \"# hide\\ncombined_signals = signals_sub.combine_csvs(csv_paths=[\\\"test_sub_signals/signals_test.csv\\\",\\n                                               \\\"test_sub_signals/signals_test2.csv\\\"],\\n                                    aux_cols=['ticker', 'last_friday', 'data_type'],\\n                                    era_col='last_friday',\\n                                    pred_col='signal')\\nassert combined_signals.columns == ['signal']\\ncombined_signals.head(2)\";\n",
       "                var nbb_formatted_code = \"# hide\\ncombined_signals = signals_sub.combine_csvs(\\n    csv_paths=[\\n        \\\"test_sub_signals/signals_test.csv\\\",\\n        \\\"test_sub_signals/signals_test2.csv\\\",\\n    ],\\n    aux_cols=[\\\"ticker\\\", \\\"last_friday\\\", \\\"data_type\\\"],\\n    era_col=\\\"last_friday\\\",\\n    pred_col=\\\"signal\\\",\\n)\\nassert combined_signals.columns == [\\\"signal\\\"]\\ncombined_signals.head(2)\";\n",
       "                var nbb_cells = Jupyter.notebook.get_cells();\n",
       "                for (var i = 0; i < nbb_cells.length; ++i) {\n",
       "                    if (nbb_cells[i].input_prompt_number == nbb_cell_id) {\n",
       "                        if (nbb_cells[i].get_text() == nbb_unformatted_code) {\n",
       "                             nbb_cells[i].set_text(nbb_formatted_code);\n",
       "                        }\n",
       "                        break;\n",
       "                    }\n",
       "                }\n",
       "            }, 500);\n",
       "            "
      ],
      "text/plain": [
       "<IPython.core.display.Javascript object>"
      ]
     },
     "metadata": {},
     "output_type": "display_data"
    }
   ],
   "source": [
    "#| include: false\n",
    "combined_signals = signals_sub.combine_csvs(csv_paths=[\"test_sub_signals/signals_test.csv\",\n",
    "                                               \"test_sub_signals/signals_test2.csv\"],\n",
    "                                    aux_cols=['ticker', 'last_friday', 'data_type'],\n",
    "                                    era_col='last_friday',\n",
    "                                    pred_col='signal')\n",
    "assert combined_signals.columns == ['signal']\n",
    "combined_signals.head(2)"
   ]
  },
  {
   "cell_type": "markdown",
   "metadata": {},
   "source": [
    "Saving Signals CSV should fail if there is no valid ticker column or if `signal` has values outside the range $[0...1]$."
   ]
  },
  {
   "cell_type": "code",
   "execution_count": null,
   "metadata": {},
   "outputs": [
    {
     "data": {
      "application/javascript": [
       "\n",
       "            setTimeout(function() {\n",
       "                var nbb_cell_id = 19;\n",
       "                var nbb_unformatted_code = \"# hide\\ndef test_signal_validity(\\n    submitter: NumeraiSignalsSubmitter, signals_dataf: pd.DataFrame\\n):\\n    \\\"\\\"\\\" Test value range of signal. \\\"\\\"\\\"\\n    try:\\n        invalid_signal = deepcopy(signals_dataf)\\n        invalid_signal.loc[0, \\\"signal\\\"] += 10\\n        submitter.save_csv(\\n            invalid_signal,\\n            file_name=\\\"should_not_save.csv\\\",\\n            cols=list(invalid_signal.columns),\\n        )\\n    except ValueError:\\n        return True\\n    return False\\n\\n\\ndef test_ticker_validity(\\n    submitter: NumeraiSignalsSubmitter, signals_dataf: pd.DataFrame\\n):\\n    \\\"\\\"\\\" Test safeguard if ticker column is not valid. \\\"\\\"\\\"\\n    try:\\n        invalid_ticker = deepcopy(signals_dataf)\\n        invalid_ticker = invalid_ticker.rename(\\n            {\\\"ticker\\\": \\\"not_a_valid_ticker_format\\\"}, axis=1\\n        )\\n        submitter.save_csv(\\n            invalid_ticker,\\n            file_name=\\\"should_not_save.csv\\\",\\n            cols=list(invalid_ticker.columns),\\n        )\\n    except NotImplementedError:\\n        return True\\n    return False\\n\\nassert test_signal_validity(signals_sub, signals_test_dataf)\\nassert test_ticker_validity(signals_sub, signals_test_dataf)\";\n",
       "                var nbb_formatted_code = \"# hide\\ndef test_signal_validity(\\n    submitter: NumeraiSignalsSubmitter, signals_dataf: pd.DataFrame\\n):\\n    \\\"\\\"\\\"Test value range of signal.\\\"\\\"\\\"\\n    try:\\n        invalid_signal = deepcopy(signals_dataf)\\n        invalid_signal.loc[0, \\\"signal\\\"] += 10\\n        submitter.save_csv(\\n            invalid_signal,\\n            file_name=\\\"should_not_save.csv\\\",\\n            cols=list(invalid_signal.columns),\\n        )\\n    except ValueError:\\n        return True\\n    return False\\n\\n\\ndef test_ticker_validity(\\n    submitter: NumeraiSignalsSubmitter, signals_dataf: pd.DataFrame\\n):\\n    \\\"\\\"\\\"Test safeguard if ticker column is not valid.\\\"\\\"\\\"\\n    try:\\n        invalid_ticker = deepcopy(signals_dataf)\\n        invalid_ticker = invalid_ticker.rename(\\n            {\\\"ticker\\\": \\\"not_a_valid_ticker_format\\\"}, axis=1\\n        )\\n        submitter.save_csv(\\n            invalid_ticker,\\n            file_name=\\\"should_not_save.csv\\\",\\n            cols=list(invalid_ticker.columns),\\n        )\\n    except NotImplementedError:\\n        return True\\n    return False\\n\\n\\nassert test_signal_validity(signals_sub, signals_test_dataf)\\nassert test_ticker_validity(signals_sub, signals_test_dataf)\";\n",
       "                var nbb_cells = Jupyter.notebook.get_cells();\n",
       "                for (var i = 0; i < nbb_cells.length; ++i) {\n",
       "                    if (nbb_cells[i].input_prompt_number == nbb_cell_id) {\n",
       "                        if (nbb_cells[i].get_text() == nbb_unformatted_code) {\n",
       "                             nbb_cells[i].set_text(nbb_formatted_code);\n",
       "                        }\n",
       "                        break;\n",
       "                    }\n",
       "                }\n",
       "            }, 500);\n",
       "            "
      ],
      "text/plain": [
       "<IPython.core.display.Javascript object>"
      ]
     },
     "metadata": {},
     "output_type": "display_data"
    }
   ],
   "source": [
    "#| include: false\n",
    "def test_signal_validity(\n",
    "    submitter: NumeraiSignalsSubmitter, signals_dataf: pd.DataFrame\n",
    "):\n",
    "    \"\"\" Test value range of signal. \"\"\"\n",
    "    try:\n",
    "        invalid_signal = deepcopy(signals_dataf)\n",
    "        invalid_signal.loc[0, \"signal\"] += 10\n",
    "        submitter.save_csv(\n",
    "            invalid_signal,\n",
    "            file_name=\"should_not_save.csv\",\n",
    "            cols=list(invalid_signal.columns),\n",
    "        )\n",
    "    except ValueError:\n",
    "        return True\n",
    "    return False\n",
    "\n",
    "\n",
    "def test_ticker_validity(\n",
    "    submitter: NumeraiSignalsSubmitter, signals_dataf: pd.DataFrame\n",
    "):\n",
    "    \"\"\" Test safeguard if ticker column is not valid. \"\"\"\n",
    "    try:\n",
    "        invalid_ticker = deepcopy(signals_dataf)\n",
    "        invalid_ticker = invalid_ticker.rename(\n",
    "            {\"ticker\": \"not_a_valid_ticker_format\"}, axis=1\n",
    "        )\n",
    "        submitter.save_csv(\n",
    "            invalid_ticker,\n",
    "            file_name=\"should_not_save.csv\",\n",
    "            cols=list(invalid_ticker.columns),\n",
    "        )\n",
    "    except NotImplementedError:\n",
    "        return True\n",
    "    return False\n",
    "\n",
    "assert test_signal_validity(signals_sub, signals_test_dataf)\n",
    "assert test_ticker_validity(signals_sub, signals_test_dataf)"
   ]
  },
  {
   "cell_type": "markdown",
   "metadata": {},
   "source": [
    "Uncomment to save CSV and upload predictions in one go."
   ]
  },
  {
   "cell_type": "code",
   "execution_count": null,
   "metadata": {},
   "outputs": [
    {
     "data": {
      "application/javascript": [
       "\n",
       "            setTimeout(function() {\n",
       "                var nbb_cell_id = 20;\n",
       "                var nbb_unformatted_code = \"# Full Signals submission\\n# signals_sub.full_submission(dataf=signals_test_dataf, file_name='signals_test.csv', cols=signals_cols, model_name=\\\"test\\\")\";\n",
       "                var nbb_formatted_code = \"# Full Signals submission\\n# signals_sub.full_submission(dataf=signals_test_dataf, file_name='signals_test.csv', cols=signals_cols, model_name=\\\"test\\\")\";\n",
       "                var nbb_cells = Jupyter.notebook.get_cells();\n",
       "                for (var i = 0; i < nbb_cells.length; ++i) {\n",
       "                    if (nbb_cells[i].input_prompt_number == nbb_cell_id) {\n",
       "                        if (nbb_cells[i].get_text() == nbb_unformatted_code) {\n",
       "                             nbb_cells[i].set_text(nbb_formatted_code);\n",
       "                        }\n",
       "                        break;\n",
       "                    }\n",
       "                }\n",
       "            }, 500);\n",
       "            "
      ],
      "text/plain": [
       "<IPython.core.display.Javascript object>"
      ]
     },
     "metadata": {},
     "output_type": "display_data"
    }
   ],
   "source": [
    "# Full Signals submission\n",
    "# signals_sub.full_submission(dataf=signals_test_dataf, file_name='signals_test.csv', cols=signals_cols, model_name=\"test\")"
   ]
  },
  {
   "cell_type": "markdown",
   "metadata": {},
   "source": [
    "After a successful submission, contents can be removed to keep a clean environment."
   ]
  },
  {
   "cell_type": "code",
   "execution_count": null,
   "metadata": {},
   "outputs": [
    {
     "data": {
      "text/html": [
       "<pre style=\"white-space:pre;overflow-x:auto;line-height:normal;font-family:Menlo,'DejaVu Sans Mono',consolas,'Courier New',monospace\">⚠ <span style=\"color: #800000; text-decoration-color: #800000\">Deleting directory for </span><span style=\"color: #800000; text-decoration-color: #800000\">'NumeraiSignalsSubmitter</span><span style=\"color: #008000; text-decoration-color: #008000\">'</span> ⚠\n",
       "Path: <span style=\"color: #008000; text-decoration-color: #008000\">'/Users/clepelaars/Desktop/crowdcent/repositories/numerai-blocks/nbs/test_sub_signals'</span>\n",
       "</pre>\n"
      ],
      "text/plain": [
       "⚠ \u001b[31mDeleting directory for \u001b[0m\u001b[31m'NumeraiSignalsSubmitter\u001b[0m\u001b[32m'\u001b[0m ⚠\n",
       "Path: \u001b[32m'/Users/clepelaars/Desktop/crowdcent/repositories/numerai-blocks/nbs/test_sub_signals'\u001b[0m\n"
      ]
     },
     "metadata": {},
     "output_type": "display_data"
    },
    {
     "data": {
      "application/javascript": [
       "\n",
       "            setTimeout(function() {\n",
       "                var nbb_cell_id = 21;\n",
       "                var nbb_unformatted_code = \"signals_sub.remove_base_directory()\\nassert not os.path.exists(test_dir_signals)\";\n",
       "                var nbb_formatted_code = \"signals_sub.remove_base_directory()\\nassert not os.path.exists(test_dir_signals)\";\n",
       "                var nbb_cells = Jupyter.notebook.get_cells();\n",
       "                for (var i = 0; i < nbb_cells.length; ++i) {\n",
       "                    if (nbb_cells[i].input_prompt_number == nbb_cell_id) {\n",
       "                        if (nbb_cells[i].get_text() == nbb_unformatted_code) {\n",
       "                             nbb_cells[i].set_text(nbb_formatted_code);\n",
       "                        }\n",
       "                        break;\n",
       "                    }\n",
       "                }\n",
       "            }, 500);\n",
       "            "
      ],
      "text/plain": [
       "<IPython.core.display.Javascript object>"
      ]
     },
     "metadata": {},
     "output_type": "display_data"
    }
   ],
   "source": [
    "signals_sub.remove_base_directory()\n",
    "assert not os.path.exists(test_dir_signals)"
   ]
  },
  {
   "cell_type": "markdown",
   "metadata": {},
   "source": []
  },
  {
   "cell_type": "markdown",
   "metadata": {},
   "source": [
    "## 3. NumerBaySubmitter"
   ]
  },
  {
   "cell_type": "markdown",
   "metadata": {},
   "source": [
    "Wrapper on top of the tournament submitters, submits to [NumerBay](https://numerbay.ai/) to fulfill sale orders."
   ]
  },
  {
   "cell_type": "code",
   "execution_count": null,
   "metadata": {},
   "outputs": [
    {
     "data": {
      "application/javascript": [
       "\n",
       "            setTimeout(function() {\n",
       "                var nbb_cell_id = 22;\n",
       "                var nbb_unformatted_code = \"# export\\n@typechecked\\nclass NumerBaySubmitter(BaseSubmitter):\\n    \\\"\\\"\\\"\\n    Submit to NumerBay to fulfill sale orders, in addition to submission to Numerai.\\n\\n    :param tournament_submitter: Base tournament submitter (NumeraiClassicSubmitter or NumeraiSignalsSubmitter). This submitter will use the same directory path.\\n    :param upload_to_numerai: Whether to also submit to Numerai using the tournament submitter. Defaults to True, set to False to only upload to NumerBay.\\n    :param numerbay_username: NumerBay username\\n    :param numerbay_password: NumerBay password\\n    \\\"\\\"\\\"\\n    def __init__(self,\\n                 tournament_submitter: Union[NumeraiClassicSubmitter, NumeraiSignalsSubmitter],\\n                 upload_to_numerai: bool = True,\\n                 numerbay_username: str = None,\\n                 numerbay_password: str = None):\\n        super().__init__(\\n            directory_path=str(tournament_submitter.dir), api=tournament_submitter.api\\n        )\\n        self.numerbay_api = NumerBay(username=numerbay_username, password=numerbay_password)\\n        self.tournament_submitter = tournament_submitter\\n        self.upload_to_numerai = upload_to_numerai\\n\\n    def upload_predictions(self,\\n                           file_name: str,\\n                           model_name: str,\\n                           numerbay_product_full_name: str,\\n                           *args,\\n                           **kwargs):\\n        \\\"\\\"\\\"\\n        Upload CSV file to NumerBay (and Numerai if 'upload_to_numerai' is True) for given model name and NumerBay product full name.\\n        :param file_name: File name/path relative to directory_path.\\n        :param model_name: Lowercase raw model name (For example, 'integration_test').\\n        :param numerbay_product_full_name: NumerBay product full name in the format of [category]-[product name], e.g. 'numerai-predictions-numerbay'\\n        \\\"\\\"\\\"\\n        if self.upload_to_numerai:\\n            self.tournament_submitter.upload_predictions(file_name, model_name, *args, **kwargs)\\n\\n\\n        full_path = str(self.dir / file_name)\\n        api_type = str(self.numerbay_api.__class__.__name__)\\n        rich_print(\\n            f\\\":airplane: {api_type}: Uploading predictions from '{full_path}' for NumerBay product [bold blue]'{numerbay_product_full_name}'[/bold blue] :airplane:\\\"\\n        )\\n        artifact = self.numerbay_api.upload_artifact(\\n            str(full_path), product_full_name=numerbay_product_full_name\\n        )\\n        if artifact:\\n            rich_print(\\n                f\\\":thumbs_up: {api_type} submission of '{full_path}' for NumerBay product [bold blue]{numerbay_product_full_name}[/bold blue] is successful! :thumbs_up:\\\"\\n            )\\n        else:\\n            rich_print(f\\\":warning: [red] Upload skipped for NumerBay product '{numerbay_product_full_name}', the product uses buyer-side encryption \\\"\\n                        \\\"but does not have any active sale order to upload for. [/red] :warning:\\\")\\n\\n    def full_submission(\\n        self,\\n        dataf: pd.DataFrame,\\n        model_name: str,\\n        cols: Union[str, list],\\n        numerbay_product_full_name: str,\\n        file_name: str = 'submission.csv',\\n        *args,\\n        **kwargs,\\n    ):\\n        \\\"\\\"\\\"\\n        Save DataFrame to csv and upload predictions through API.\\n\\n        :param dataf: Main DataFrame containing `cols`.\\n        :param model_name: Lowercase Numerai model name.\\n        :param numerbay_product_full_name: NumerBay product full name in the format of [category]-[product name], e.g. 'numerai-predictions-numerbay'\\n        :param file_name: path to save model to relative to base directory.\\n        :param cols: Columns to be saved in submission file.\\n        1 prediction column for Numerai Classic.\\n        At least 1 prediction column and 1 ticker column for Numerai Signals.\\n        *args, **kwargs are passed to numerapi API.\\n        For example `version` argument in Numerai Classic submissions.\\n        \\\"\\\"\\\"\\n        self.save_csv(dataf=dataf, file_name=file_name, cols=cols)\\n        self.upload_predictions(\\n            file_name=file_name, model_name=model_name, numerbay_product_full_name=numerbay_product_full_name,\\n            *args, **kwargs\\n        )\\n\\n    def combine_csvs(self, *args,**kwargs) -> pd.DataFrame:\\n        return self.tournament_submitter.combine_csvs(*args,**kwargs)\\n\\n    def save_csv(self, *args, **kwargs):\\n        self.tournament_submitter.save_csv(*args, **kwargs)\\n\\n    @property\\n    def get_model_mapping(self) -> dict:\\n        return self.tournament_submitter.api.get_models()\\n\\n    def __call__(\\n            self,\\n            dataf: pd.DataFrame,\\n            model_name: str,\\n            numerbay_product_full_name: str,\\n            file_name: str = \\\"submission.csv\\\",\\n            cols: Union[str, list] = \\\"prediction\\\",\\n            *args,\\n            **kwargs,\\n    ):\\n        \\\"\\\"\\\"\\n        The most common use case will be to create a CSV and submit it immediately after that.\\n        full_submission handles this.\\n        \\\"\\\"\\\"\\n        self.full_submission(\\n            dataf=dataf,\\n            file_name=file_name,\\n            model_name=model_name,\\n            numerbay_product_full_name=numerbay_product_full_name,\\n            cols=cols,\\n            *args,\\n            **kwargs,\\n        )\";\n",
       "                var nbb_formatted_code = \"# export\\n@typechecked\\nclass NumerBaySubmitter(BaseSubmitter):\\n    \\\"\\\"\\\"\\n    Submit to NumerBay to fulfill sale orders, in addition to submission to Numerai.\\n\\n    :param tournament_submitter: Base tournament submitter (NumeraiClassicSubmitter or NumeraiSignalsSubmitter). This submitter will use the same directory path.\\n    :param upload_to_numerai: Whether to also submit to Numerai using the tournament submitter. Defaults to True, set to False to only upload to NumerBay.\\n    :param numerbay_username: NumerBay username\\n    :param numerbay_password: NumerBay password\\n    \\\"\\\"\\\"\\n\\n    def __init__(\\n        self,\\n        tournament_submitter: Union[NumeraiClassicSubmitter, NumeraiSignalsSubmitter],\\n        upload_to_numerai: bool = True,\\n        numerbay_username: str = None,\\n        numerbay_password: str = None,\\n    ):\\n        super().__init__(\\n            directory_path=str(tournament_submitter.dir), api=tournament_submitter.api\\n        )\\n        self.numerbay_api = NumerBay(\\n            username=numerbay_username, password=numerbay_password\\n        )\\n        self.tournament_submitter = tournament_submitter\\n        self.upload_to_numerai = upload_to_numerai\\n\\n    def upload_predictions(\\n        self,\\n        file_name: str,\\n        model_name: str,\\n        numerbay_product_full_name: str,\\n        *args,\\n        **kwargs,\\n    ):\\n        \\\"\\\"\\\"\\n        Upload CSV file to NumerBay (and Numerai if 'upload_to_numerai' is True) for given model name and NumerBay product full name.\\n        :param file_name: File name/path relative to directory_path.\\n        :param model_name: Lowercase raw model name (For example, 'integration_test').\\n        :param numerbay_product_full_name: NumerBay product full name in the format of [category]-[product name], e.g. 'numerai-predictions-numerbay'\\n        \\\"\\\"\\\"\\n        if self.upload_to_numerai:\\n            self.tournament_submitter.upload_predictions(\\n                file_name, model_name, *args, **kwargs\\n            )\\n\\n        full_path = str(self.dir / file_name)\\n        api_type = str(self.numerbay_api.__class__.__name__)\\n        rich_print(\\n            f\\\":airplane: {api_type}: Uploading predictions from '{full_path}' for NumerBay product [bold blue]'{numerbay_product_full_name}'[/bold blue] :airplane:\\\"\\n        )\\n        artifact = self.numerbay_api.upload_artifact(\\n            str(full_path), product_full_name=numerbay_product_full_name\\n        )\\n        if artifact:\\n            rich_print(\\n                f\\\":thumbs_up: {api_type} submission of '{full_path}' for NumerBay product [bold blue]{numerbay_product_full_name}[/bold blue] is successful! :thumbs_up:\\\"\\n            )\\n        else:\\n            rich_print(\\n                f\\\":warning: [red] Upload skipped for NumerBay product '{numerbay_product_full_name}', the product uses buyer-side encryption \\\"\\n                \\\"but does not have any active sale order to upload for. [/red] :warning:\\\"\\n            )\\n\\n    def full_submission(\\n        self,\\n        dataf: pd.DataFrame,\\n        model_name: str,\\n        cols: Union[str, list],\\n        numerbay_product_full_name: str,\\n        file_name: str = \\\"submission.csv\\\",\\n        *args,\\n        **kwargs,\\n    ):\\n        \\\"\\\"\\\"\\n        Save DataFrame to csv and upload predictions through API.\\n\\n        :param dataf: Main DataFrame containing `cols`.\\n        :param model_name: Lowercase Numerai model name.\\n        :param numerbay_product_full_name: NumerBay product full name in the format of [category]-[product name], e.g. 'numerai-predictions-numerbay'\\n        :param file_name: path to save model to relative to base directory.\\n        :param cols: Columns to be saved in submission file.\\n        1 prediction column for Numerai Classic.\\n        At least 1 prediction column and 1 ticker column for Numerai Signals.\\n        *args, **kwargs are passed to numerapi API.\\n        For example `version` argument in Numerai Classic submissions.\\n        \\\"\\\"\\\"\\n        self.save_csv(dataf=dataf, file_name=file_name, cols=cols)\\n        self.upload_predictions(\\n            file_name=file_name,\\n            model_name=model_name,\\n            numerbay_product_full_name=numerbay_product_full_name,\\n            *args,\\n            **kwargs,\\n        )\\n\\n    def combine_csvs(self, *args, **kwargs) -> pd.DataFrame:\\n        return self.tournament_submitter.combine_csvs(*args, **kwargs)\\n\\n    def save_csv(self, *args, **kwargs):\\n        self.tournament_submitter.save_csv(*args, **kwargs)\\n\\n    @property\\n    def get_model_mapping(self) -> dict:\\n        return self.tournament_submitter.api.get_models()\\n\\n    def __call__(\\n        self,\\n        dataf: pd.DataFrame,\\n        model_name: str,\\n        numerbay_product_full_name: str,\\n        file_name: str = \\\"submission.csv\\\",\\n        cols: Union[str, list] = \\\"prediction\\\",\\n        *args,\\n        **kwargs,\\n    ):\\n        \\\"\\\"\\\"\\n        The most common use case will be to create a CSV and submit it immediately after that.\\n        full_submission handles this.\\n        \\\"\\\"\\\"\\n        self.full_submission(\\n            dataf=dataf,\\n            file_name=file_name,\\n            model_name=model_name,\\n            numerbay_product_full_name=numerbay_product_full_name,\\n            cols=cols,\\n            *args,\\n            **kwargs,\\n        )\";\n",
       "                var nbb_cells = Jupyter.notebook.get_cells();\n",
       "                for (var i = 0; i < nbb_cells.length; ++i) {\n",
       "                    if (nbb_cells[i].input_prompt_number == nbb_cell_id) {\n",
       "                        if (nbb_cells[i].get_text() == nbb_unformatted_code) {\n",
       "                             nbb_cells[i].set_text(nbb_formatted_code);\n",
       "                        }\n",
       "                        break;\n",
       "                    }\n",
       "                }\n",
       "            }, 500);\n",
       "            "
      ],
      "text/plain": [
       "<IPython.core.display.Javascript object>"
      ]
     },
     "metadata": {},
     "output_type": "display_data"
    }
   ],
   "source": [
    "#| export\n",
    "@typechecked\n",
    "class NumerBaySubmitter(BaseSubmitter):\n",
    "    \"\"\"\n",
    "    Submit to NumerBay to fulfill sale orders, in addition to submission to Numerai.\n",
    "\n",
    "    :param tournament_submitter: Base tournament submitter (NumeraiClassicSubmitter or NumeraiSignalsSubmitter). This submitter will use the same directory path.\n",
    "    :param upload_to_numerai: Whether to also submit to Numerai using the tournament submitter. Defaults to True, set to False to only upload to NumerBay.\n",
    "    :param numerbay_username: NumerBay username\n",
    "    :param numerbay_password: NumerBay password\n",
    "    \"\"\"\n",
    "    def __init__(self,\n",
    "                 tournament_submitter: Union[NumeraiClassicSubmitter, NumeraiSignalsSubmitter],\n",
    "                 upload_to_numerai: bool = True,\n",
    "                 numerbay_username: str = None,\n",
    "                 numerbay_password: str = None):\n",
    "        super().__init__(\n",
    "            directory_path=str(tournament_submitter.dir), api=tournament_submitter.api\n",
    "        )\n",
    "        self.numerbay_api = NumerBay(username=numerbay_username, password=numerbay_password)\n",
    "        self.tournament_submitter = tournament_submitter\n",
    "        self.upload_to_numerai = upload_to_numerai\n",
    "\n",
    "    def upload_predictions(self,\n",
    "                           file_name: str,\n",
    "                           model_name: str,\n",
    "                           numerbay_product_full_name: str,\n",
    "                           *args,\n",
    "                           **kwargs):\n",
    "        \"\"\"\n",
    "        Upload CSV file to NumerBay (and Numerai if 'upload_to_numerai' is True) for given model name and NumerBay product full name.\n",
    "        :param file_name: File name/path relative to directory_path.\n",
    "        :param model_name: Lowercase raw model name (For example, 'integration_test').\n",
    "        :param numerbay_product_full_name: NumerBay product full name in the format of [category]-[product name], e.g. 'numerai-predictions-numerbay'\n",
    "        \"\"\"\n",
    "        if self.upload_to_numerai:\n",
    "            self.tournament_submitter.upload_predictions(file_name, model_name, *args, **kwargs)\n",
    "\n",
    "\n",
    "        full_path = str(self.dir / file_name)\n",
    "        api_type = str(self.numerbay_api.__class__.__name__)\n",
    "        rich_print(\n",
    "            f\":airplane: {api_type}: Uploading predictions from '{full_path}' for NumerBay product [bold blue]'{numerbay_product_full_name}'[/bold blue] :airplane:\"\n",
    "        )\n",
    "        artifact = self.numerbay_api.upload_artifact(\n",
    "            str(full_path), product_full_name=numerbay_product_full_name\n",
    "        )\n",
    "        if artifact:\n",
    "            rich_print(\n",
    "                f\":thumbs_up: {api_type} submission of '{full_path}' for NumerBay product [bold blue]{numerbay_product_full_name}[/bold blue] is successful! :thumbs_up:\"\n",
    "            )\n",
    "        else:\n",
    "            rich_print(f\":warning: [red] Upload skipped for NumerBay product '{numerbay_product_full_name}', the product uses buyer-side encryption \"\n",
    "                        \"but does not have any active sale order to upload for. [/red] :warning:\")\n",
    "\n",
    "    def full_submission(\n",
    "        self,\n",
    "        dataf: pd.DataFrame,\n",
    "        model_name: str,\n",
    "        cols: Union[str, list],\n",
    "        numerbay_product_full_name: str,\n",
    "        file_name: str = 'submission.csv',\n",
    "        *args,\n",
    "        **kwargs,\n",
    "    ):\n",
    "        \"\"\"\n",
    "        Save DataFrame to csv and upload predictions through API.\n",
    "\n",
    "        :param dataf: Main DataFrame containing `cols`.\n",
    "        :param model_name: Lowercase Numerai model name.\n",
    "        :param numerbay_product_full_name: NumerBay product full name in the format of [category]-[product name], e.g. 'numerai-predictions-numerbay'\n",
    "        :param file_name: path to save model to relative to base directory.\n",
    "        :param cols: Columns to be saved in submission file.\n",
    "        1 prediction column for Numerai Classic.\n",
    "        At least 1 prediction column and 1 ticker column for Numerai Signals.\n",
    "        *args, **kwargs are passed to numerapi API.\n",
    "        For example `version` argument in Numerai Classic submissions.\n",
    "        \"\"\"\n",
    "        self.save_csv(dataf=dataf, file_name=file_name, cols=cols)\n",
    "        self.upload_predictions(\n",
    "            file_name=file_name, model_name=model_name, numerbay_product_full_name=numerbay_product_full_name,\n",
    "            *args, **kwargs\n",
    "        )\n",
    "\n",
    "    def combine_csvs(self, *args,**kwargs) -> pd.DataFrame:\n",
    "        return self.tournament_submitter.combine_csvs(*args,**kwargs)\n",
    "\n",
    "    def save_csv(self, *args, **kwargs):\n",
    "        self.tournament_submitter.save_csv(*args, **kwargs)\n",
    "\n",
    "    @property\n",
    "    def get_model_mapping(self) -> dict:\n",
    "        return self.tournament_submitter.api.get_models()\n",
    "\n",
    "    def __call__(\n",
    "            self,\n",
    "            dataf: pd.DataFrame,\n",
    "            model_name: str,\n",
    "            numerbay_product_full_name: str,\n",
    "            file_name: str = \"submission.csv\",\n",
    "            cols: Union[str, list] = \"prediction\",\n",
    "            *args,\n",
    "            **kwargs,\n",
    "    ):\n",
    "        \"\"\"\n",
    "        The most common use case will be to create a CSV and submit it immediately after that.\n",
    "        full_submission handles this.\n",
    "        \"\"\"\n",
    "        self.full_submission(\n",
    "            dataf=dataf,\n",
    "            file_name=file_name,\n",
    "            model_name=model_name,\n",
    "            numerbay_product_full_name=numerbay_product_full_name,\n",
    "            cols=cols,\n",
    "            *args,\n",
    "            **kwargs,\n",
    "        )"
   ]
  },
  {
   "cell_type": "markdown",
   "metadata": {},
   "source": [
    "### Example usage 3: NumerBaySubmitter"
   ]
  },
  {
   "cell_type": "markdown",
   "metadata": {},
   "source": [
    "Numerai submissions (existing file)"
   ]
  },
  {
   "cell_type": "code",
   "execution_count": null,
   "metadata": {},
   "outputs": [
    {
     "data": {
      "application/javascript": [
       "\n",
       "            setTimeout(function() {\n",
       "                var nbb_cell_id = 23;\n",
       "                var nbb_unformatted_code = \"# numerai_submitter = NumeraiClassicSubmitter(directory_path=\\\"/app/notebooks/tmp\\\", key=key)\\n# nb_submitter = NumerBaySubmitter(tournament_submitter=numerai_submitter, upload_to_numerai=False,\\n#                                  numerbay_username=\\\"someusername\\\", numerbay_password=\\\"somepassword\\\")\\n# nb_submitter.upload_predictions(file_name='upload.csv', model_name='mymodel',\\n#                                 numerbay_product_full_name='numerai-predictions-myproduct')\";\n",
       "                var nbb_formatted_code = \"# numerai_submitter = NumeraiClassicSubmitter(directory_path=\\\"/app/notebooks/tmp\\\", key=key)\\n# nb_submitter = NumerBaySubmitter(tournament_submitter=numerai_submitter, upload_to_numerai=False,\\n#                                  numerbay_username=\\\"someusername\\\", numerbay_password=\\\"somepassword\\\")\\n# nb_submitter.upload_predictions(file_name='upload.csv', model_name='mymodel',\\n#                                 numerbay_product_full_name='numerai-predictions-myproduct')\";\n",
       "                var nbb_cells = Jupyter.notebook.get_cells();\n",
       "                for (var i = 0; i < nbb_cells.length; ++i) {\n",
       "                    if (nbb_cells[i].input_prompt_number == nbb_cell_id) {\n",
       "                        if (nbb_cells[i].get_text() == nbb_unformatted_code) {\n",
       "                             nbb_cells[i].set_text(nbb_formatted_code);\n",
       "                        }\n",
       "                        break;\n",
       "                    }\n",
       "                }\n",
       "            }, 500);\n",
       "            "
      ],
      "text/plain": [
       "<IPython.core.display.Javascript object>"
      ]
     },
     "metadata": {},
     "output_type": "display_data"
    }
   ],
   "source": [
    "# numerai_submitter = NumeraiClassicSubmitter(directory_path=\"/app/notebooks/tmp\", key=key)\n",
    "# nb_submitter = NumerBaySubmitter(tournament_submitter=numerai_submitter, upload_to_numerai=False,\n",
    "#                                  numerbay_username=\"someusername\", numerbay_password=\"somepassword\")\n",
    "# nb_submitter.upload_predictions(file_name='upload.csv', model_name='mymodel',\n",
    "#                                 numerbay_product_full_name='numerai-predictions-myproduct')"
   ]
  },
  {
   "cell_type": "markdown",
   "metadata": {},
   "source": [
    "Numerai submissions (from NumerFrame)"
   ]
  },
  {
   "cell_type": "code",
   "execution_count": null,
   "metadata": {},
   "outputs": [
    {
     "data": {
      "application/javascript": [
       "\n",
       "            setTimeout(function() {\n",
       "                var nbb_cell_id = 24;\n",
       "                var nbb_unformatted_code = \"# numerai_submitter = NumeraiClassicSubmitter(directory_path=\\\"/app/notebooks/tmp\\\", key=key)\\n# nb_submitter = NumerBaySubmitter(tournament_submitter=numerai_submitter, upload_to_numerai=False,\\n#                                  numerbay_username=\\\"someusername\\\", numerbay_password=\\\"somepassword\\\")\\n# nb_submitter.full_submission(dataf, file_name='upload.csv', model_name='mymodel',\\n#                              numerbay_product_full_name='numerai-predictions-myproduct',\\n#                              cols='some_pred_col')\";\n",
       "                var nbb_formatted_code = \"# numerai_submitter = NumeraiClassicSubmitter(directory_path=\\\"/app/notebooks/tmp\\\", key=key)\\n# nb_submitter = NumerBaySubmitter(tournament_submitter=numerai_submitter, upload_to_numerai=False,\\n#                                  numerbay_username=\\\"someusername\\\", numerbay_password=\\\"somepassword\\\")\\n# nb_submitter.full_submission(dataf, file_name='upload.csv', model_name='mymodel',\\n#                              numerbay_product_full_name='numerai-predictions-myproduct',\\n#                              cols='some_pred_col')\";\n",
       "                var nbb_cells = Jupyter.notebook.get_cells();\n",
       "                for (var i = 0; i < nbb_cells.length; ++i) {\n",
       "                    if (nbb_cells[i].input_prompt_number == nbb_cell_id) {\n",
       "                        if (nbb_cells[i].get_text() == nbb_unformatted_code) {\n",
       "                             nbb_cells[i].set_text(nbb_formatted_code);\n",
       "                        }\n",
       "                        break;\n",
       "                    }\n",
       "                }\n",
       "            }, 500);\n",
       "            "
      ],
      "text/plain": [
       "<IPython.core.display.Javascript object>"
      ]
     },
     "metadata": {},
     "output_type": "display_data"
    }
   ],
   "source": [
    "# numerai_submitter = NumeraiClassicSubmitter(directory_path=\"/app/notebooks/tmp\", key=key)\n",
    "# nb_submitter = NumerBaySubmitter(tournament_submitter=numerai_submitter, upload_to_numerai=False,\n",
    "#                                  numerbay_username=\"someusername\", numerbay_password=\"somepassword\")\n",
    "# nb_submitter.full_submission(dataf, file_name='upload.csv', model_name='mymodel',\n",
    "#                              numerbay_product_full_name='numerai-predictions-myproduct',\n",
    "#                              cols='some_pred_col')"
   ]
  },
  {
   "cell_type": "markdown",
   "metadata": {},
   "source": [
    "Signals submissions (existing file)"
   ]
  },
  {
   "cell_type": "code",
   "execution_count": null,
   "metadata": {},
   "outputs": [
    {
     "data": {
      "application/javascript": [
       "\n",
       "            setTimeout(function() {\n",
       "                var nbb_cell_id = 25;\n",
       "                var nbb_unformatted_code = \"# signals_submitter = NumeraiSignalsSubmitter(directory_path=\\\"/app/notebooks/tmp\\\", key=key)\\n# nb_submitter = NumerBaySubmitter(tournament_submitter=signals_submitter, upload_to_numerai=False,\\n#                                  numerbay_username=\\\"someusername\\\", numerbay_password=\\\"somepassword\\\")\\n# nb_submitter.upload_predictions(file_name='upload-signals.csv', model_name='mymodel',\\n#                                 numerbay_product_full_name='signals-predictions-myproduct')\";\n",
       "                var nbb_formatted_code = \"# signals_submitter = NumeraiSignalsSubmitter(directory_path=\\\"/app/notebooks/tmp\\\", key=key)\\n# nb_submitter = NumerBaySubmitter(tournament_submitter=signals_submitter, upload_to_numerai=False,\\n#                                  numerbay_username=\\\"someusername\\\", numerbay_password=\\\"somepassword\\\")\\n# nb_submitter.upload_predictions(file_name='upload-signals.csv', model_name='mymodel',\\n#                                 numerbay_product_full_name='signals-predictions-myproduct')\";\n",
       "                var nbb_cells = Jupyter.notebook.get_cells();\n",
       "                for (var i = 0; i < nbb_cells.length; ++i) {\n",
       "                    if (nbb_cells[i].input_prompt_number == nbb_cell_id) {\n",
       "                        if (nbb_cells[i].get_text() == nbb_unformatted_code) {\n",
       "                             nbb_cells[i].set_text(nbb_formatted_code);\n",
       "                        }\n",
       "                        break;\n",
       "                    }\n",
       "                }\n",
       "            }, 500);\n",
       "            "
      ],
      "text/plain": [
       "<IPython.core.display.Javascript object>"
      ]
     },
     "metadata": {},
     "output_type": "display_data"
    }
   ],
   "source": [
    "# signals_submitter = NumeraiSignalsSubmitter(directory_path=\"/app/notebooks/tmp\", key=key)\n",
    "# nb_submitter = NumerBaySubmitter(tournament_submitter=signals_submitter, upload_to_numerai=False,\n",
    "#                                  numerbay_username=\"someusername\", numerbay_password=\"somepassword\")\n",
    "# nb_submitter.upload_predictions(file_name='upload-signals.csv', model_name='mymodel',\n",
    "#                                 numerbay_product_full_name='signals-predictions-myproduct')"
   ]
  },
  {
   "cell_type": "markdown",
   "metadata": {},
   "source": [
    "Signals submissions (from NumerFrame)"
   ]
  },
  {
   "cell_type": "code",
   "execution_count": null,
   "metadata": {},
   "outputs": [
    {
     "data": {
      "application/javascript": [
       "\n",
       "            setTimeout(function() {\n",
       "                var nbb_cell_id = 26;\n",
       "                var nbb_unformatted_code = \"# signals_submitter = NumeraiSignalsSubmitter(directory_path=\\\"/app/notebooks/tmp\\\", key=key)\\n# nb_submitter = NumerBaySubmitter(tournament_submitter=signals_submitter, upload_to_numerai=False,\\n#                                  numerbay_username=\\\"someusername\\\", numerbay_password=\\\"somepassword\\\")\\n# nb_submitter.full_submission(dataf, file_name='upload-signals.csv', model_name='mymodel',\\n#                              numerbay_product_full_name='signals-predictions-myproduct',\\n#                              cols=['bloomberg_ticker', 'friday_date', 'data_type', 'signal'])\";\n",
       "                var nbb_formatted_code = \"# signals_submitter = NumeraiSignalsSubmitter(directory_path=\\\"/app/notebooks/tmp\\\", key=key)\\n# nb_submitter = NumerBaySubmitter(tournament_submitter=signals_submitter, upload_to_numerai=False,\\n#                                  numerbay_username=\\\"someusername\\\", numerbay_password=\\\"somepassword\\\")\\n# nb_submitter.full_submission(dataf, file_name='upload-signals.csv', model_name='mymodel',\\n#                              numerbay_product_full_name='signals-predictions-myproduct',\\n#                              cols=['bloomberg_ticker', 'friday_date', 'data_type', 'signal'])\";\n",
       "                var nbb_cells = Jupyter.notebook.get_cells();\n",
       "                for (var i = 0; i < nbb_cells.length; ++i) {\n",
       "                    if (nbb_cells[i].input_prompt_number == nbb_cell_id) {\n",
       "                        if (nbb_cells[i].get_text() == nbb_unformatted_code) {\n",
       "                             nbb_cells[i].set_text(nbb_formatted_code);\n",
       "                        }\n",
       "                        break;\n",
       "                    }\n",
       "                }\n",
       "            }, 500);\n",
       "            "
      ],
      "text/plain": [
       "<IPython.core.display.Javascript object>"
      ]
     },
     "metadata": {},
     "output_type": "display_data"
    }
   ],
   "source": [
    "# signals_submitter = NumeraiSignalsSubmitter(directory_path=\"/app/notebooks/tmp\", key=key)\n",
    "# nb_submitter = NumerBaySubmitter(tournament_submitter=signals_submitter, upload_to_numerai=False,\n",
    "#                                  numerbay_username=\"someusername\", numerbay_password=\"somepassword\")\n",
    "# nb_submitter.full_submission(dataf, file_name='upload-signals.csv', model_name='mymodel',\n",
    "#                              numerbay_product_full_name='signals-predictions-myproduct',\n",
    "#                              cols=['bloomberg_ticker', 'friday_date', 'data_type', 'signal'])"
   ]
  },
  {
   "cell_type": "markdown",
   "metadata": {},
   "source": [
    "------------------------------------------------------------"
   ]
  }
 ],
 "metadata": {
  "kernelspec": {
   "display_name": "python3",
   "language": "python",
   "name": "python3"
  }
 },
 "nbformat": 4,
 "nbformat_minor": 0
}
