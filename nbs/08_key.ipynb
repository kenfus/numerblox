{
 "cells": [
  {
   "cell_type": "raw",
   "metadata": {},
   "source": [
    "---\n",
    "description: Safely parsing keys for submission.\n",
    "output-file: key.html\n",
    "title: Key\n",
    "\n",
    "---\n",
    "\n"
   ]
  },
  {
   "cell_type": "code",
   "execution_count": null,
   "metadata": {},
   "outputs": [
    {
     "data": {
      "application/javascript": "\n            setTimeout(function() {\n                var nbb_cell_id = 1;\n                var nbb_unformatted_code = \"# hide\\n%load_ext autoreload\\n%autoreload 2\\n%load_ext nb_black\\n%load_ext lab_black\";\n                var nbb_formatted_code = \"# hide\\n%load_ext autoreload\\n%autoreload 2\\n%load_ext nb_black\\n%load_ext lab_black\";\n                var nbb_cells = Jupyter.notebook.get_cells();\n                for (var i = 0; i < nbb_cells.length; ++i) {\n                    if (nbb_cells[i].input_prompt_number == nbb_cell_id) {\n                        if (nbb_cells[i].get_text() == nbb_unformatted_code) {\n                             nbb_cells[i].set_text(nbb_formatted_code);\n                        }\n                        break;\n                    }\n                }\n            }, 500);\n            ",
      "text/plain": "<IPython.core.display.Javascript object>"
     },
     "metadata": {},
     "output_type": "display_data"
    }
   ],
   "source": [
    "#| include: false\n",
    "%load_ext autoreload\n",
    "%autoreload 2"
   ]
  },
  {
   "cell_type": "code",
   "execution_count": null,
   "metadata": {},
   "outputs": [
    {
     "data": {
      "application/javascript": "\n            setTimeout(function() {\n                var nbb_cell_id = 2;\n                var nbb_unformatted_code = \"# default_exp key\";\n                var nbb_formatted_code = \"# default_exp key\";\n                var nbb_cells = Jupyter.notebook.get_cells();\n                for (var i = 0; i < nbb_cells.length; ++i) {\n                    if (nbb_cells[i].input_prompt_number == nbb_cell_id) {\n                        if (nbb_cells[i].get_text() == nbb_unformatted_code) {\n                             nbb_cells[i].set_text(nbb_formatted_code);\n                        }\n                        break;\n                    }\n                }\n            }, 500);\n            ",
      "text/plain": "<IPython.core.display.Javascript object>"
     },
     "metadata": {},
     "output_type": "display_data"
    }
   ],
   "source": [
    "#| default_exp key"
   ]
  },
  {
   "cell_type": "markdown",
   "metadata": {},
   "source": [
    "Numerai authentication is done by passing a valid `pub_id` and `secret_key` for the `numerapi` API.\n",
    "\n",
    "As stakes get larger we might want additional protection and confidence that credentials are parsed correctly. We might also like to load credentials from a (JSON) file that is stored safely somewhere. This section offers tools to safely load and use Numerai credentials.\n",
    "\n",
    "A `Key` object is needed to initialize `submission` objects."
   ]
  },
  {
   "cell_type": "code",
   "execution_count": null,
   "metadata": {},
   "outputs": [
    {
     "data": {
      "application/javascript": "\n            setTimeout(function() {\n                var nbb_cell_id = 3;\n                var nbb_unformatted_code = \"# hide\\nfrom nbdev.showdoc import *\";\n                var nbb_formatted_code = \"# hide\\nfrom nbdev.showdoc import *\";\n                var nbb_cells = Jupyter.notebook.get_cells();\n                for (var i = 0; i < nbb_cells.length; ++i) {\n                    if (nbb_cells[i].input_prompt_number == nbb_cell_id) {\n                        if (nbb_cells[i].get_text() == nbb_unformatted_code) {\n                             nbb_cells[i].set_text(nbb_formatted_code);\n                        }\n                        break;\n                    }\n                }\n            }, 500);\n            ",
      "text/plain": "<IPython.core.display.Javascript object>"
     },
     "metadata": {},
     "output_type": "display_data"
    }
   ],
   "source": [
    "#| include: false\n",
    "from nbdev.showdoc import *"
   ]
  },
  {
   "cell_type": "code",
   "execution_count": null,
   "metadata": {},
   "outputs": [
    {
     "data": {
      "application/javascript": "\n            setTimeout(function() {\n                var nbb_cell_id = 4;\n                var nbb_unformatted_code = \"# export\\nimport json\";\n                var nbb_formatted_code = \"# export\\nimport json\";\n                var nbb_cells = Jupyter.notebook.get_cells();\n                for (var i = 0; i < nbb_cells.length; ++i) {\n                    if (nbb_cells[i].input_prompt_number == nbb_cell_id) {\n                        if (nbb_cells[i].get_text() == nbb_unformatted_code) {\n                             nbb_cells[i].set_text(nbb_formatted_code);\n                        }\n                        break;\n                    }\n                }\n            }, 500);\n            ",
      "text/plain": "<IPython.core.display.Javascript object>"
     },
     "metadata": {},
     "output_type": "display_data"
    }
   ],
   "source": [
    "#| export\n",
    "import json"
   ]
  },
  {
   "cell_type": "markdown",
   "metadata": {},
   "source": [
    "The `Key` object allows you to either initialize from Python variables (strings) or load from a JSON file.\n",
    "\n",
    "In order to `load_key_from_json`, the key JSON file must have the following format:\n",
    "```json\n",
    "{\"pub_id\": \"PUBLIC_ID\", \"secret_key\": \"SECRET_KEY\"}\n",
    "```"
   ]
  },
  {
   "cell_type": "code",
   "execution_count": null,
   "metadata": {},
   "outputs": [
    {
     "data": {
      "application/javascript": "\n            setTimeout(function() {\n                var nbb_cell_id = 5;\n                var nbb_unformatted_code = \"# export\\nclass Key:\\n    \\\"\\\"\\\"Numerai credentials.\\\"\\\"\\\"\\n    def __init__(self, pub_id: str, secret_key: str):\\n        self.pub_id = pub_id\\n        self.secret_key = secret_key\\n\\n    def __repr__(self):\\n        return f\\\"Numerai Auth Key. pub_id = '{self.pub_id}'\\\"\\n\\n    def __str__(self):\\n        return self.__repr__()\\n\\n\\ndef load_key_from_json(file_path: str, *args, **kwargs):\\n    \\\"\\\"\\\"\\n    Initialize Key object from JSON file. \\\\n\\n    Credentials file must have the following format: \\\\n\\n    `{\\\"pub_id\\\": \\\"PUBLIC_ID\\\", \\\"secret_key\\\": \\\"SECRET_KEY\\\"}`\\n    \\\"\\\"\\\"\\n    with open(file_path) as json_file:\\n        json_data = json.load(json_file, *args, **kwargs)\\n    pub_id = json_data[\\\"pub_id\\\"]\\n    secret_key = json_data[\\\"secret_key\\\"]\\n    return Key(pub_id=pub_id, secret_key=secret_key)\";\n                var nbb_formatted_code = \"# export\\nclass Key:\\n    \\\"\\\"\\\"Numerai credentials.\\\"\\\"\\\"\\n\\n    def __init__(self, pub_id: str, secret_key: str):\\n        self.pub_id = pub_id\\n        self.secret_key = secret_key\\n\\n    def __repr__(self):\\n        return f\\\"Numerai Auth Key. pub_id = '{self.pub_id}'\\\"\\n\\n    def __str__(self):\\n        return self.__repr__()\\n\\n\\ndef load_key_from_json(file_path: str, *args, **kwargs):\\n    \\\"\\\"\\\"\\n    Initialize Key object from JSON file. \\\\n\\n    Credentials file must have the following format: \\\\n\\n    `{\\\"pub_id\\\": \\\"PUBLIC_ID\\\", \\\"secret_key\\\": \\\"SECRET_KEY\\\"}`\\n    \\\"\\\"\\\"\\n    with open(file_path) as json_file:\\n        json_data = json.load(json_file, *args, **kwargs)\\n    pub_id = json_data[\\\"pub_id\\\"]\\n    secret_key = json_data[\\\"secret_key\\\"]\\n    return Key(pub_id=pub_id, secret_key=secret_key)\";\n                var nbb_cells = Jupyter.notebook.get_cells();\n                for (var i = 0; i < nbb_cells.length; ++i) {\n                    if (nbb_cells[i].input_prompt_number == nbb_cell_id) {\n                        if (nbb_cells[i].get_text() == nbb_unformatted_code) {\n                             nbb_cells[i].set_text(nbb_formatted_code);\n                        }\n                        break;\n                    }\n                }\n            }, 500);\n            ",
      "text/plain": "<IPython.core.display.Javascript object>"
     },
     "metadata": {},
     "output_type": "display_data"
    }
   ],
   "source": [
    "#| export\n",
    "class Key:\n",
    "    \"\"\"Numerai credentials.\"\"\"\n",
    "    def __init__(self, pub_id: str, secret_key: str):\n",
    "        self.pub_id = pub_id\n",
    "        self.secret_key = secret_key\n",
    "\n",
    "    def __repr__(self):\n",
    "        return f\"Numerai Auth Key. pub_id = '{self.pub_id}'\"\n",
    "\n",
    "    def __str__(self):\n",
    "        return self.__repr__()\n",
    "\n",
    "\n",
    "def load_key_from_json(file_path: str, *args, **kwargs):\n",
    "    \"\"\"\n",
    "    Initialize Key object from JSON file. \\n\n",
    "    Credentials file must have the following format: \\n\n",
    "    `{\"pub_id\": \"PUBLIC_ID\", \"secret_key\": \"SECRET_KEY\"}`\n",
    "    \"\"\"\n",
    "    with open(file_path) as json_file:\n",
    "        json_data = json.load(json_file, *args, **kwargs)\n",
    "    pub_id = json_data[\"pub_id\"]\n",
    "    secret_key = json_data[\"secret_key\"]\n",
    "    return Key(pub_id=pub_id, secret_key=secret_key)"
   ]
  },
  {
   "cell_type": "markdown",
   "metadata": {},
   "source": [
    "### Example usage 1: direct initialization"
   ]
  },
  {
   "cell_type": "code",
   "execution_count": null,
   "metadata": {},
   "outputs": [
    {
     "data": {
      "application/javascript": "\n            setTimeout(function() {\n                var nbb_cell_id = 6;\n                var nbb_unformatted_code = \"# Random credentials\\npub_id, secret_key = \\\"QVdFU09NRV9QVUJMSUNfSUQ=\\\", \\\"VkVSWV9FVkVOX01PUkVfU0VDUkVUX0tFWQ==\\\"\\nexample_key = Key(pub_id=pub_id, secret_key=secret_key)\";\n                var nbb_formatted_code = \"# Random credentials\\npub_id, secret_key = \\\"QVdFU09NRV9QVUJMSUNfSUQ=\\\", \\\"VkVSWV9FVkVOX01PUkVfU0VDUkVUX0tFWQ==\\\"\\nexample_key = Key(pub_id=pub_id, secret_key=secret_key)\";\n                var nbb_cells = Jupyter.notebook.get_cells();\n                for (var i = 0; i < nbb_cells.length; ++i) {\n                    if (nbb_cells[i].input_prompt_number == nbb_cell_id) {\n                        if (nbb_cells[i].get_text() == nbb_unformatted_code) {\n                             nbb_cells[i].set_text(nbb_formatted_code);\n                        }\n                        break;\n                    }\n                }\n            }, 500);\n            ",
      "text/plain": "<IPython.core.display.Javascript object>"
     },
     "metadata": {},
     "output_type": "display_data"
    }
   ],
   "source": [
    "# Random credentials\n",
    "pub_id, secret_key = \"QVdFU09NRV9QVUJMSUNfSUQ=\", \"VkVSWV9FVkVOX01PUkVfU0VDUkVUX0tFWQ==\"\n",
    "example_key = Key(pub_id=pub_id, secret_key=secret_key)"
   ]
  },
  {
   "cell_type": "code",
   "execution_count": null,
   "metadata": {},
   "outputs": [
    {
     "data": {
      "application/javascript": "\n            setTimeout(function() {\n                var nbb_cell_id = 7;\n                var nbb_unformatted_code = \"assert (example_key.pub_id, example_key.secret_key) == (pub_id, secret_key)\";\n                var nbb_formatted_code = \"assert (example_key.pub_id, example_key.secret_key) == (pub_id, secret_key)\";\n                var nbb_cells = Jupyter.notebook.get_cells();\n                for (var i = 0; i < nbb_cells.length; ++i) {\n                    if (nbb_cells[i].input_prompt_number == nbb_cell_id) {\n                        if (nbb_cells[i].get_text() == nbb_unformatted_code) {\n                             nbb_cells[i].set_text(nbb_formatted_code);\n                        }\n                        break;\n                    }\n                }\n            }, 500);\n            ",
      "text/plain": "<IPython.core.display.Javascript object>"
     },
     "metadata": {},
     "output_type": "display_data"
    }
   ],
   "source": [
    "assert (example_key.pub_id, example_key.secret_key) == (pub_id, secret_key)"
   ]
  },
  {
   "cell_type": "markdown",
   "metadata": {},
   "source": [
    "### Example usage 2:  loading from JSON"
   ]
  },
  {
   "cell_type": "code",
   "execution_count": null,
   "metadata": {},
   "outputs": [
    {
     "data": {
      "application/javascript": "\n            setTimeout(function() {\n                var nbb_cell_id = 8;\n                var nbb_unformatted_code = \"example_key2 = load_key_from_json(\\\"test_assets/test_credentials.json\\\")\";\n                var nbb_formatted_code = \"example_key2 = load_key_from_json(\\\"test_assets/test_credentials.json\\\")\";\n                var nbb_cells = Jupyter.notebook.get_cells();\n                for (var i = 0; i < nbb_cells.length; ++i) {\n                    if (nbb_cells[i].input_prompt_number == nbb_cell_id) {\n                        if (nbb_cells[i].get_text() == nbb_unformatted_code) {\n                             nbb_cells[i].set_text(nbb_formatted_code);\n                        }\n                        break;\n                    }\n                }\n            }, 500);\n            ",
      "text/plain": "<IPython.core.display.Javascript object>"
     },
     "metadata": {},
     "output_type": "display_data"
    }
   ],
   "source": [
    "example_key2 = load_key_from_json(\"test_assets/test_credentials.json\")"
   ]
  },
  {
   "cell_type": "markdown",
   "metadata": {},
   "source": [
    "This `Key` contains the credentials defined in `test_assets/test_credentials.json`."
   ]
  },
  {
   "cell_type": "code",
   "execution_count": null,
   "metadata": {},
   "outputs": [
    {
     "data": {
      "application/javascript": "\n            setTimeout(function() {\n                var nbb_cell_id = 9;\n                var nbb_unformatted_code = \"assert (example_key2.pub_id, example_key2.secret_key) == (\\n    \\\"UFVCTElDX0lE\\\",\\n    \\\"U1VQRVJfU0VDUkVUX0tFWQ==\\\",\\n)\";\n                var nbb_formatted_code = \"assert (example_key2.pub_id, example_key2.secret_key) == (\\n    \\\"UFVCTElDX0lE\\\",\\n    \\\"U1VQRVJfU0VDUkVUX0tFWQ==\\\",\\n)\";\n                var nbb_cells = Jupyter.notebook.get_cells();\n                for (var i = 0; i < nbb_cells.length; ++i) {\n                    if (nbb_cells[i].input_prompt_number == nbb_cell_id) {\n                        if (nbb_cells[i].get_text() == nbb_unformatted_code) {\n                             nbb_cells[i].set_text(nbb_formatted_code);\n                        }\n                        break;\n                    }\n                }\n            }, 500);\n            ",
      "text/plain": "<IPython.core.display.Javascript object>"
     },
     "metadata": {},
     "output_type": "display_data"
    }
   ],
   "source": [
    "assert (example_key2.pub_id, example_key2.secret_key) == (\n",
    "    \"UFVCTElDX0lE\",\n",
    "    \"U1VQRVJfU0VDUkVUX0tFWQ==\",\n",
    ")"
   ]
  },
  {
   "cell_type": "markdown",
   "metadata": {},
   "source": [
    "-----------------------------------------------------------------------"
   ]
  }
 ],
 "metadata": {
  "kernelspec": {
   "display_name": "python3",
   "language": "python",
   "name": "python3"
  }
 },
 "nbformat": 4,
 "nbformat_minor": 0
}
